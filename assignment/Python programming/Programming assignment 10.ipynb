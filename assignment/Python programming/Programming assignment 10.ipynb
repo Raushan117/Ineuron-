{
 "cells": [
  {
   "cell_type": "markdown",
   "id": "b9883848",
   "metadata": {},
   "source": [
    "1.Write a Python program to find sum of elements in list?"
   ]
  },
  {
   "cell_type": "code",
   "execution_count": 2,
   "id": "4da9cc6f",
   "metadata": {},
   "outputs": [
    {
     "name": "stdout",
     "output_type": "stream",
     "text": [
      "52\n"
     ]
    }
   ],
   "source": [
    "list = [2,4,5,7,8,9,4,5,8]\n",
    "sum = 0\n",
    "for i in list:\n",
    "    sum = sum + i\n",
    "print(sum)"
   ]
  },
  {
   "cell_type": "markdown",
   "id": "16c17ce8",
   "metadata": {},
   "source": [
    "2.Write a Python program to  Multiply all numbers in the list?"
   ]
  },
  {
   "cell_type": "code",
   "execution_count": 3,
   "id": "09873e8b",
   "metadata": {},
   "outputs": [
    {
     "name": "stdout",
     "output_type": "stream",
     "text": [
      "3225600\n"
     ]
    }
   ],
   "source": [
    "list = [2,4,5,7,8,9,4,5,8]\n",
    "mult = 1\n",
    "for i in list:\n",
    "    mult = mult*i\n",
    "print(mult)"
   ]
  },
  {
   "cell_type": "markdown",
   "id": "5a156a35",
   "metadata": {},
   "source": [
    "3.Write a Python program to find smallest number in a list?"
   ]
  },
  {
   "cell_type": "code",
   "execution_count": 4,
   "id": "9f77267f",
   "metadata": {},
   "outputs": [
    {
     "data": {
      "text/plain": [
       "2"
      ]
     },
     "execution_count": 4,
     "metadata": {},
     "output_type": "execute_result"
    }
   ],
   "source": [
    "list = [2,4,5,7,8,9,4,5,8]\n",
    "min(list)"
   ]
  },
  {
   "cell_type": "markdown",
   "id": "a310ed9a",
   "metadata": {},
   "source": [
    "4.Write a Python program to find largest number in a list?"
   ]
  },
  {
   "cell_type": "code",
   "execution_count": 5,
   "id": "1929fe86",
   "metadata": {},
   "outputs": [
    {
     "data": {
      "text/plain": [
       "9"
      ]
     },
     "execution_count": 5,
     "metadata": {},
     "output_type": "execute_result"
    }
   ],
   "source": [
    "list = [2,4,5,7,8,9,4,5,8]\n",
    "max(list)"
   ]
  },
  {
   "cell_type": "markdown",
   "id": "e3890698",
   "metadata": {},
   "source": [
    "5.Write a Python program to find second largest number in a list?"
   ]
  },
  {
   "cell_type": "code",
   "execution_count": 6,
   "id": "c9faf39b",
   "metadata": {},
   "outputs": [
    {
     "data": {
      "text/plain": [
       "8"
      ]
     },
     "execution_count": 6,
     "metadata": {},
     "output_type": "execute_result"
    }
   ],
   "source": [
    "list = [2,4,5,7,8,9,4,5,8]\n",
    "list.sort()\n",
    "list[-2]"
   ]
  },
  {
   "cell_type": "markdown",
   "id": "e1519603",
   "metadata": {},
   "source": [
    "6.Write a Python program to find N largest elements from a list?\n"
   ]
  },
  {
   "cell_type": "code",
   "execution_count": 8,
   "id": "101e8116",
   "metadata": {},
   "outputs": [
    {
     "name": "stdout",
     "output_type": "stream",
     "text": [
      "Eter Nth terms3\n"
     ]
    },
    {
     "data": {
      "text/plain": [
       "8"
      ]
     },
     "execution_count": 8,
     "metadata": {},
     "output_type": "execute_result"
    }
   ],
   "source": [
    "list = [2,4,5,7,8,9,4,5,8]\n",
    "n = int(input('Eter Nth terms'))\n",
    "list.sort()\n",
    "list[-n]"
   ]
  },
  {
   "cell_type": "markdown",
   "id": "53a1882a",
   "metadata": {},
   "source": [
    "7.Write a Python program to print even numbers in a list?"
   ]
  },
  {
   "cell_type": "code",
   "execution_count": 9,
   "id": "71e7808b",
   "metadata": {},
   "outputs": [
    {
     "name": "stdout",
     "output_type": "stream",
     "text": [
      "2\n",
      "4\n",
      "8\n",
      "4\n",
      "8\n"
     ]
    }
   ],
   "source": [
    "list = [2,4,5,7,8,9,4,5,8]\n",
    "for i in list:\n",
    "    if i%2==0:\n",
    "        print(i)"
   ]
  },
  {
   "cell_type": "markdown",
   "id": "d08c87a5",
   "metadata": {},
   "source": [
    "8.Write a Python program to print odd numbers in a List?"
   ]
  },
  {
   "cell_type": "code",
   "execution_count": 10,
   "id": "6a82aa67",
   "metadata": {},
   "outputs": [
    {
     "name": "stdout",
     "output_type": "stream",
     "text": [
      "5\n",
      "7\n",
      "9\n",
      "5\n"
     ]
    }
   ],
   "source": [
    "list = [2,4,5,7,8,9,4,5,8]\n",
    "for i in list:\n",
    "    if i%2 !=0:\n",
    "        print(i)"
   ]
  },
  {
   "cell_type": "markdown",
   "id": "8d50fd4c",
   "metadata": {},
   "source": [
    "9.Write a Python program to Remove empty List from List?"
   ]
  },
  {
   "cell_type": "code",
   "execution_count": 11,
   "id": "07065e4c",
   "metadata": {},
   "outputs": [
    {
     "name": "stdout",
     "output_type": "stream",
     "text": [
      "[1, 3, 5, 54, 5, 5, 3, [4, 5], 5]\n"
     ]
    }
   ],
   "source": [
    "list1 = [1,3,5,[],54,5,[],5,3,[4,5],5]\n",
    "r = [e for e in list1 if e !=[]]\n",
    "print(r)"
   ]
  },
  {
   "cell_type": "markdown",
   "id": "86829287",
   "metadata": {},
   "source": [
    "10.Write a Python program to Cloning or Copying a list?"
   ]
  },
  {
   "cell_type": "code",
   "execution_count": 12,
   "id": "cd34335d",
   "metadata": {},
   "outputs": [
    {
     "name": "stdout",
     "output_type": "stream",
     "text": [
      "[2, 4, 5, 7, 8, 9, 4, 5, 8]\n"
     ]
    },
    {
     "data": {
      "text/plain": [
       "list"
      ]
     },
     "execution_count": 12,
     "metadata": {},
     "output_type": "execute_result"
    }
   ],
   "source": [
    "list = [2,4,5,7,8,9,4,5,8]\n",
    "col_l = list[:]\n",
    "print(col_l)\n",
    "type(col_l)"
   ]
  },
  {
   "cell_type": "markdown",
   "id": "a3bc7369",
   "metadata": {},
   "source": [
    "11.Write a Python program to Count occurrences of an element in a list?"
   ]
  },
  {
   "cell_type": "code",
   "execution_count": 13,
   "id": "10a34d3e",
   "metadata": {},
   "outputs": [
    {
     "name": "stdout",
     "output_type": "stream",
     "text": [
      "2 has occurred 1 times\n",
      "4 has occurred 2 times\n",
      "5 has occurred 2 times\n",
      "7 has occurred 1 times\n",
      "8 has occurred 2 times\n",
      "9 has occurred 1 times\n",
      "4 has occurred 2 times\n",
      "5 has occurred 2 times\n",
      "8 has occurred 2 times\n"
     ]
    }
   ],
   "source": [
    "from collections import Counter\n",
    "list = [2,4,5,7,8,9,4,5,8]\n",
    "\n",
    "for x in list:\n",
    "    d = Counter(list)\n",
    "    print('{} has occurred {} times'.format(x, d[x]))"
   ]
  },
  {
   "cell_type": "code",
   "execution_count": null,
   "id": "910d1769",
   "metadata": {},
   "outputs": [],
   "source": []
  }
 ],
 "metadata": {
  "kernelspec": {
   "display_name": "Python 3 (ipykernel)",
   "language": "python",
   "name": "python3"
  },
  "language_info": {
   "codemirror_mode": {
    "name": "ipython",
    "version": 3
   },
   "file_extension": ".py",
   "mimetype": "text/x-python",
   "name": "python",
   "nbconvert_exporter": "python",
   "pygments_lexer": "ipython3",
   "version": "3.9.12"
  }
 },
 "nbformat": 4,
 "nbformat_minor": 5
}
