{
 "cells": [
  {
   "cell_type": "markdown",
   "id": "3204ae86",
   "metadata": {},
   "source": [
    "1.Write a Python Program to Add Two Matrices?"
   ]
  },
  {
   "cell_type": "code",
   "execution_count": 10,
   "id": "96ebce6d",
   "metadata": {},
   "outputs": [
    {
     "name": "stdout",
     "output_type": "stream",
     "text": [
      "[5, 4, 7]\n",
      "[9, 9, 9]\n",
      "[8, 8, 9]\n"
     ]
    }
   ],
   "source": [
    "a = [[1,2,3],\n",
    "     [6,5,4],\n",
    "     [7,6,8]]\n",
    "\n",
    "b = [[4,2,4],\n",
    "    [3,4,5],\n",
    "    [1,2,1]]\n",
    "\n",
    "result = [[ a[i][j] + b[i][j] for j in range(len(a[0]))]\n",
    "          for i in range(len(a))]\n",
    "\n",
    "for r in result:\n",
    "    print(r)\n"
   ]
  },
  {
   "cell_type": "markdown",
   "id": "da126335",
   "metadata": {},
   "source": [
    "2.Write a Python Program to Multiply Two Matrices?"
   ]
  },
  {
   "cell_type": "code",
   "execution_count": 13,
   "id": "9fc0a336",
   "metadata": {
    "scrolled": true
   },
   "outputs": [
    {
     "name": "stdout",
     "output_type": "stream",
     "text": [
      "[13, 16, 17]\n",
      "[43, 40, 53]\n",
      "[54, 54, 66]\n"
     ]
    }
   ],
   "source": [
    "a = [[1,2,3],\n",
    "     [6,5,4],\n",
    "     [7,6,8]]\n",
    "\n",
    "b = [[4,2,4],\n",
    "    [3,4,5],\n",
    "    [1,2,1]]\n",
    "\n",
    "result = [[sum(c*d for c,d in zip(i,j))\n",
    "                     for j in zip(*b)]\n",
    "                         for i in a]\n",
    "\n",
    "for r in result:\n",
    "    print(r)"
   ]
  },
  {
   "cell_type": "markdown",
   "id": "985538ac",
   "metadata": {},
   "source": [
    "3.Write a Python Program to Transpose a Matrix?"
   ]
  },
  {
   "cell_type": "code",
   "execution_count": 3,
   "id": "5da8047c",
   "metadata": {},
   "outputs": [
    {
     "name": "stdout",
     "output_type": "stream",
     "text": [
      "[2, 3]\n",
      "[3, 4]\n",
      "[4, 5]\n"
     ]
    }
   ],
   "source": [
    "A = [[2,3,4],\n",
    "    [3,4,5]]\n",
    "result = [[A[j][i] for j in range(len(A))] for i in range(len(A[0]))]\n",
    "for r in result:\n",
    "    print(r)"
   ]
  },
  {
   "cell_type": "markdown",
   "id": "066f73dd",
   "metadata": {},
   "source": [
    "4.Write a Python Program to Sort Words in Alphabetic Order?"
   ]
  },
  {
   "cell_type": "code",
   "execution_count": 5,
   "id": "4478e9a6",
   "metadata": {},
   "outputs": [
    {
     "name": "stdout",
     "output_type": "stream",
     "text": [
      "Enter a string: see you soon. good night\n",
      "good\n",
      "night\n",
      "see\n",
      "soon.\n",
      "you\n"
     ]
    }
   ],
   "source": [
    "s = input(\"Enter a string: \")  \n",
    "words = s.split()    \n",
    "words.sort()  \n",
    "for word in words:  \n",
    "   print(word)  "
   ]
  },
  {
   "cell_type": "markdown",
   "id": "6d4d5126",
   "metadata": {},
   "source": [
    "5.Write a Python Program to Remove Punctuation From a String?"
   ]
  },
  {
   "cell_type": "code",
   "execution_count": 6,
   "id": "5634d42b",
   "metadata": {},
   "outputs": [
    {
     "name": "stdout",
     "output_type": "stream",
     "text": [
      "Hello he said and went\n"
     ]
    }
   ],
   "source": [
    "punctuations = '''!()-[]{};:'\"\\,<>./?@#$%^&*_~'''\n",
    "\n",
    "my_str = \"Hello!!!, he said ---and went.\"\n",
    "no_punct = \"\"\n",
    "for char in my_str:\n",
    "    if char not in punctuations:\n",
    "        no_punct = no_punct + char\n",
    "print(no_punct)"
   ]
  },
  {
   "cell_type": "code",
   "execution_count": null,
   "id": "48bffdb9",
   "metadata": {},
   "outputs": [],
   "source": []
  }
 ],
 "metadata": {
  "kernelspec": {
   "display_name": "Python 3 (ipykernel)",
   "language": "python",
   "name": "python3"
  },
  "language_info": {
   "codemirror_mode": {
    "name": "ipython",
    "version": 3
   },
   "file_extension": ".py",
   "mimetype": "text/x-python",
   "name": "python",
   "nbconvert_exporter": "python",
   "pygments_lexer": "ipython3",
   "version": "3.9.12"
  }
 },
 "nbformat": 4,
 "nbformat_minor": 5
}
