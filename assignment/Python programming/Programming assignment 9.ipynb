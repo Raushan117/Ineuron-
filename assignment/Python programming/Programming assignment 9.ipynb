{
 "cells": [
  {
   "cell_type": "markdown",
   "id": "a607759b",
   "metadata": {},
   "source": [
    "1.Write a Python program to check if the given number is a Disarium Number?"
   ]
  },
  {
   "cell_type": "code",
   "execution_count": 28,
   "id": "874616cc",
   "metadata": {},
   "outputs": [
    {
     "name": "stdout",
     "output_type": "stream",
     "text": [
      "Enter any Number175\n",
      "5 3\n",
      "7 2\n",
      "1 1\n",
      "175 is a disarium number\n"
     ]
    }
   ],
   "source": [
    "def length(n):\n",
    "    l = 0\n",
    "    while (n!=0):\n",
    "        l = l+1\n",
    "        n = n//10\n",
    "    return l\n",
    "num = int(input('Enter any Number'))\n",
    "d = sum = 0\n",
    "\n",
    "len = length(num)\n",
    "n = num\n",
    "while (num > 0):\n",
    "    d = num %10\n",
    "    print(d , len)\n",
    "    sum = sum+ int(d**len)\n",
    "    num = num//10\n",
    "    len = len - 1\n",
    "if(sum == n):    \n",
    "    print(str(n) + \" is a disarium number\");    \n",
    "else:    \n",
    "    print(str(n) + \" is not a disarium number\"); "
   ]
  },
  {
   "cell_type": "markdown",
   "id": "265ea369",
   "metadata": {},
   "source": [
    "2.Write a Python program to print all disarium numbers between 1 to 100?"
   ]
  },
  {
   "cell_type": "code",
   "execution_count": 46,
   "id": "c9cfa5f1",
   "metadata": {},
   "outputs": [
    {
     "name": "stdout",
     "output_type": "stream",
     "text": [
      "1\n",
      "2\n",
      "3\n",
      "4\n",
      "5\n",
      "6\n",
      "7\n",
      "8\n",
      "9\n",
      "89\n"
     ]
    }
   ],
   "source": [
    "def length(n):\n",
    "    l = 0\n",
    "    while n!=0:\n",
    "        l = l+1\n",
    "        n = n//10\n",
    "    return l\n",
    "def sumOfdigit(num):\n",
    "    d = sum = 0\n",
    "    len = length(num)\n",
    "    n = num\n",
    "    while num>0:\n",
    "        d = num%10\n",
    "        sum = sum + int(d**len)\n",
    "        num = num//10\n",
    "        len = len -1\n",
    "    return sum\n",
    "    result = 0\n",
    "for i in range(1,101):\n",
    "    result = sumOfdigit(i)\n",
    "    if result == i:\n",
    "        print(i,)\n",
    "    \n",
    "    "
   ]
  },
  {
   "cell_type": "markdown",
   "id": "bc443657",
   "metadata": {},
   "source": [
    "3.Write a Python program to check if the given number is Happy Number?"
   ]
  },
  {
   "cell_type": "code",
   "execution_count": 62,
   "id": "4f8c0771",
   "metadata": {
    "scrolled": true
   },
   "outputs": [],
   "source": [
    "\n",
    "def check_happy_num(my_num):\n",
    "    d = sum_val = 0\n",
    "    while(my_num > 10):\n",
    "        d = my_num%10\n",
    "        sum_val = sum_val + (d**2)\n",
    "        my_num = my_num//10\n",
    "    return sum_val\n"
   ]
  },
  {
   "cell_type": "code",
   "execution_count": 77,
   "id": "ca1c68b2",
   "metadata": {},
   "outputs": [
    {
     "name": "stdout",
     "output_type": "stream",
     "text": [
      "Enter any number19\n",
      "19 is a happy number\n"
     ]
    }
   ],
   "source": [
    "def check_happy_num(my_num):\n",
    "    d = sum_val = 0\n",
    "    while(my_num > 0):\n",
    "        d = my_num%10\n",
    "        sum_val = sum_val + (d**2)\n",
    "        my_num = my_num//10\n",
    "    return sum_val\n",
    "\n",
    "m = int(input('Enter any number'))\n",
    "my_result = m\n",
    "while(my_result != 1 and my_result != 4):\n",
    "    my_result = check_happy_num(my_result)\n",
    "    if(my_result == 1):\n",
    "        print(m ,'is a happy number')\n",
    "        break\n",
    "else:\n",
    "    print(m,'is not a happy number')\n",
    "    \n"
   ]
  },
  {
   "cell_type": "markdown",
   "id": "49d705c9",
   "metadata": {},
   "source": [
    "4.Write a Python program to print all happy numbers between 1 and 100?"
   ]
  },
  {
   "cell_type": "code",
   "execution_count": null,
   "id": "e0f3b827",
   "metadata": {},
   "outputs": [],
   "source": [
    "def check_happy_num(my_num):\n",
    "    d = sum_val = 0\n",
    "    while(my_num > 0):\n",
    "        d = my_num%10\n",
    "        sum_val = sum_val + (d**2)\n",
    "        my_num = my_num//10\n",
    "    return sum_val\n",
    "print(\"The list of happy numbers between 1 and 100 are : \")\n",
    "for i in range(1, 101):\n",
    "    my_result = i\n",
    "    while(my_result != 1 and my_result != 4):\n",
    "        my_result = check_happy_num(my_result)\n",
    "        if(my_result == 1):\n",
    "             print(i)\n"
   ]
  },
  {
   "cell_type": "markdown",
   "id": "c1a4766f",
   "metadata": {},
   "source": [
    "5.Write a Python program to determine whether the given number is a Harshad Number?"
   ]
  },
  {
   "cell_type": "code",
   "execution_count": 83,
   "id": "a90c6f54",
   "metadata": {},
   "outputs": [
    {
     "name": "stdout",
     "output_type": "stream",
     "text": [
      "enter any number132\n",
      "132 is a harshad_number\n"
     ]
    }
   ],
   "source": [
    "num = int(input('enter any number'))\n",
    "\n",
    "n = num\n",
    "sum = 0\n",
    "while n >0:\n",
    "    d = n%10 \n",
    "    sum = sum + d\n",
    "    n = n//10\n",
    "\n",
    "if num % sum ==0:\n",
    "    print(num,'is a harshad_number')\n",
    "else:\n",
    "    print(num,'is not a harshad number')\n",
    "    "
   ]
  },
  {
   "cell_type": "markdown",
   "id": "1d13adb7",
   "metadata": {},
   "source": [
    "6.Write a Python program to print all pronic numbers between 1 and 100?"
   ]
  },
  {
   "cell_type": "code",
   "execution_count": 101,
   "id": "d74a6227",
   "metadata": {},
   "outputs": [
    {
     "name": "stdout",
     "output_type": "stream",
     "text": [
      "Pronic numbers between 1 and 100: \n",
      "2\n",
      "6\n",
      "12\n",
      "20\n",
      "30\n",
      "42\n",
      "56\n",
      "72\n",
      "90\n"
     ]
    }
   ],
   "source": [
    "def isPronicNumber(num):\n",
    "    flag = False;\n",
    "    for j in range(1, num+1):\n",
    "        if((j*(j+1)) == num):\n",
    "            flag = True;\n",
    "            break;\n",
    "    return flag;\n",
    "print(\"Pronic numbers between 1 and 100: \");\n",
    "for i in range(1, 101):\n",
    "    if(isPronicNumber(i)):\n",
    "        print(i)"
   ]
  },
  {
   "cell_type": "code",
   "execution_count": null,
   "id": "515d1ec6",
   "metadata": {},
   "outputs": [],
   "source": []
  }
 ],
 "metadata": {
  "kernelspec": {
   "display_name": "Python 3 (ipykernel)",
   "language": "python",
   "name": "python3"
  },
  "language_info": {
   "codemirror_mode": {
    "name": "ipython",
    "version": 3
   },
   "file_extension": ".py",
   "mimetype": "text/x-python",
   "name": "python",
   "nbconvert_exporter": "python",
   "pygments_lexer": "ipython3",
   "version": "3.9.12"
  }
 },
 "nbformat": 4,
 "nbformat_minor": 5
}
