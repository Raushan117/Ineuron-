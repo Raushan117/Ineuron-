{
 "cells": [
  {
   "cell_type": "markdown",
   "id": "56b6cfe1",
   "metadata": {},
   "source": [
    "1.Write a Python program to convert kilometers to miles?"
   ]
  },
  {
   "cell_type": "code",
   "execution_count": 2,
   "id": "18d568a5",
   "metadata": {},
   "outputs": [
    {
     "name": "stdout",
     "output_type": "stream",
     "text": [
      "Enter value in Km  5\n"
     ]
    },
    {
     "data": {
      "text/plain": [
       "3.106855"
      ]
     },
     "execution_count": 2,
     "metadata": {},
     "output_type": "execute_result"
    }
   ],
   "source": [
    "conv_fac = 0.621371      #Since 1 kilometer is equal to 0.621371 miles\n",
    "km = int(input(\"Enter value in Km  \"))\n",
    "miles = km*conv_fac\n",
    "miles"
   ]
  },
  {
   "cell_type": "markdown",
   "id": "88fdbff1",
   "metadata": {},
   "source": [
    "2.Write a Python program to convert Celsius to Fahrenheit?"
   ]
  },
  {
   "cell_type": "code",
   "execution_count": 9,
   "id": "68f268ef",
   "metadata": {},
   "outputs": [
    {
     "name": "stdout",
     "output_type": "stream",
     "text": [
      "Enter Value in C35\n",
      "95.0\n"
     ]
    }
   ],
   "source": [
    "\n",
    "C = int(input('Enter Value in C'))\n",
    "F = (C*9/5)+32  #(0°C × 9/5) + 32 = 32°F\n",
    "print(F)"
   ]
  },
  {
   "cell_type": "markdown",
   "id": "97afdeab",
   "metadata": {},
   "source": [
    "3.Write a Python program to display calendar?"
   ]
  },
  {
   "cell_type": "code",
   "execution_count": 12,
   "id": "36055b5b",
   "metadata": {},
   "outputs": [
    {
     "name": "stdout",
     "output_type": "stream",
     "text": [
      "     June 2022\n",
      "Mo Tu We Th Fr Sa Su\n",
      "       1  2  3  4  5\n",
      " 6  7  8  9 10 11 12\n",
      "13 14 15 16 17 18 19\n",
      "20 21 22 23 24 25 26\n",
      "27 28 29 30\n",
      "\n"
     ]
    }
   ],
   "source": [
    "import calendar\n",
    "\n",
    "mm = 6\n",
    "yy = 2022\n",
    "print(calendar.month(yy,mm))"
   ]
  },
  {
   "cell_type": "markdown",
   "id": "1c35d4e9",
   "metadata": {},
   "source": [
    "4.Write a Python program to solve quadratic equation?"
   ]
  },
  {
   "cell_type": "raw",
   "id": "d99f4fd9",
   "metadata": {},
   "source": [
    "ax2 + bx + c = 0, where\n",
    "a, b and c are real numbers and\n",
    "a ≠ 0\n",
    "\n",
    "(-b ± (b ** 2 - 4 * a * c) ** 0.5) / (2 * a)"
   ]
  },
  {
   "cell_type": "code",
   "execution_count": 15,
   "id": "f31fd4e5",
   "metadata": {},
   "outputs": [
    {
     "name": "stdout",
     "output_type": "stream",
     "text": [
      "(3.5+0j) (-1.5+0j)\n"
     ]
    }
   ],
   "source": [
    "import cmath\n",
    "a =1\n",
    "b = -1\n",
    "c= -6\n",
    "\n",
    "d = (b**2-4*a*c)\n",
    "\n",
    "x1 = (-b+cmath.sqrt(d)/2*a)\n",
    "x2  = (-b-cmath.sqrt(d)/2*a)\n",
    "print(x1,x2)"
   ]
  },
  {
   "cell_type": "markdown",
   "id": "f83d0b02",
   "metadata": {},
   "source": [
    "5.Write a Python program to swap two variables without temp variable?"
   ]
  },
  {
   "cell_type": "code",
   "execution_count": null,
   "id": "6ded1c05",
   "metadata": {},
   "outputs": [],
   "source": []
  }
 ],
 "metadata": {
  "kernelspec": {
   "display_name": "Python 3 (ipykernel)",
   "language": "python",
   "name": "python3"
  },
  "language_info": {
   "codemirror_mode": {
    "name": "ipython",
    "version": 3
   },
   "file_extension": ".py",
   "mimetype": "text/x-python",
   "name": "python",
   "nbconvert_exporter": "python",
   "pygments_lexer": "ipython3",
   "version": "3.9.12"
  }
 },
 "nbformat": 4,
 "nbformat_minor": 5
}
