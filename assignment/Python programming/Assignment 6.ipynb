{
 "cells": [
  {
   "cell_type": "markdown",
   "id": "2058fc33",
   "metadata": {},
   "source": [
    "1. Write a Python Program to Display Fibonacci Sequence Using Recursion"
   ]
  },
  {
   "cell_type": "code",
   "execution_count": 22,
   "id": "c9808e29",
   "metadata": {},
   "outputs": [
    {
     "name": "stdout",
     "output_type": "stream",
     "text": [
      "please enter number of terms7\n",
      "Fibonacci sequence:\n",
      "0\n",
      "1\n",
      "1\n",
      "2\n",
      "3\n",
      "5\n",
      "8\n"
     ]
    }
   ],
   "source": [
    "\n",
    "def recur_fibo(n):\n",
    "    if n < 0:\n",
    "        print(\"Invalid input\")\n",
    "        \n",
    "    elif n <= 1:\n",
    "        return n\n",
    "    else:\n",
    "        return(recur_fibo(n-1) + recur_fibo(n-2))\n",
    "\n",
    "nterms = int(input(\"please enter number of terms\"))\n",
    "\n",
    "\n",
    "if nterms == 0:\n",
    "    print(nterms)\n",
    "else:\n",
    "    print(\"Fibonacci sequence:\")\n",
    "    for i in range(nterms):\n",
    "        print(recur_fibo(i))"
   ]
  },
  {
   "cell_type": "markdown",
   "id": "33ce47cf",
   "metadata": {},
   "source": [
    "2.Write a Python Program to Find Factorial of Number Using Recursion?"
   ]
  },
  {
   "cell_type": "code",
   "execution_count": 25,
   "id": "500d47ee",
   "metadata": {},
   "outputs": [],
   "source": [
    "def factorial():\n",
    "    num = int(input(\"Enter factorial number \"))\n",
    "    factorial = 1\n",
    "\n",
    "    if num < 0:\n",
    "        print(\"Sorry, factorial does not exist for negative numbers\")\n",
    "    elif num == 0:\n",
    "        print(\"The factorial of 0 is 1\")\n",
    "    else:\n",
    "        for i in range(1,num + 1):\n",
    "            factorial = factorial*i\n",
    "        print(\"The factorial of\",i,\"is\",factorial)\n"
   ]
  },
  {
   "cell_type": "code",
   "execution_count": 26,
   "id": "de03ae5d",
   "metadata": {},
   "outputs": [
    {
     "name": "stdout",
     "output_type": "stream",
     "text": [
      "Enter factorial number 7\n",
      "The factorial of 7 is 5040\n"
     ]
    }
   ],
   "source": [
    "factorial()"
   ]
  },
  {
   "cell_type": "markdown",
   "id": "52d7443d",
   "metadata": {},
   "source": [
    "3.Write a Python Program to calculate your Body Mass Index?"
   ]
  },
  {
   "cell_type": "raw",
   "id": "14e82841",
   "metadata": {},
   "source": [
    "BMI = (mass or weight)/(height*height)\n",
    "where,\n",
    "mass or weight is in Kg,\n",
    "height is in meters"
   ]
  },
  {
   "cell_type": "code",
   "execution_count": 31,
   "id": "270d4efa",
   "metadata": {},
   "outputs": [
    {
     "name": "stdout",
     "output_type": "stream",
     "text": [
      "please enter your current weight 62\n",
      "please enter your current height in meter1.65\n",
      "Your body mass Index is:  22.77318640955005\n"
     ]
    }
   ],
   "source": [
    "weight = int(input(\"please enter your current weight \"))\n",
    "height = float(input('please enter your current height in meter'))\n",
    "\n",
    "BMI = weight/height**2\n",
    "\n",
    "print('Your body mass Index is: ',BMI)"
   ]
  },
  {
   "cell_type": "markdown",
   "id": "8553a5d7",
   "metadata": {},
   "source": [
    "4.Write a Python Program to calculate the natural logarithm of any number?"
   ]
  },
  {
   "cell_type": "code",
   "execution_count": 1,
   "id": "34352b74",
   "metadata": {},
   "outputs": [
    {
     "name": "stdout",
     "output_type": "stream",
     "text": [
      "Please enter any number32\n",
      "Log valuo of 32.0 is 3.4657359027997265\n"
     ]
    }
   ],
   "source": [
    "import math\n",
    "num = float(input(\"Please enter any number\"))\n",
    "print(\"Log valuo of {} is\".format(num),math.log(num))\n"
   ]
  },
  {
   "cell_type": "markdown",
   "id": "3eb1cc22",
   "metadata": {},
   "source": [
    "5.Write a Python Program for cube sum of first n natural numbers?"
   ]
  },
  {
   "cell_type": "code",
   "execution_count": 7,
   "id": "d71ba9c5",
   "metadata": {},
   "outputs": [
    {
     "name": "stdout",
     "output_type": "stream",
     "text": [
      "Please enter nuber of terms  5\n",
      "sum of {} first terms natural numbers 225\n"
     ]
    }
   ],
   "source": [
    "num = int(input(\"Please enter nuber of terms  \"))\n",
    "sum = 0\n",
    "for i in range(1,num+1):\n",
    "    sum = sum +(i**3)\n",
    "print('sum of {} first terms natural numbers',sum)"
   ]
  },
  {
   "cell_type": "code",
   "execution_count": null,
   "id": "befc9c36",
   "metadata": {},
   "outputs": [],
   "source": []
  }
 ],
 "metadata": {
  "kernelspec": {
   "display_name": "Python 3 (ipykernel)",
   "language": "python",
   "name": "python3"
  },
  "language_info": {
   "codemirror_mode": {
    "name": "ipython",
    "version": 3
   },
   "file_extension": ".py",
   "mimetype": "text/x-python",
   "name": "python",
   "nbconvert_exporter": "python",
   "pygments_lexer": "ipython3",
   "version": "3.9.12"
  }
 },
 "nbformat": 4,
 "nbformat_minor": 5
}
