{
 "cells": [
  {
   "cell_type": "markdown",
   "id": "8ce07e08",
   "metadata": {},
   "source": [
    "1.Write a Python program to find words which are greater than given length k?"
   ]
  },
  {
   "cell_type": "code",
   "execution_count": 1,
   "id": "f0d08ee1",
   "metadata": {},
   "outputs": [
    {
     "name": "stdout",
     "output_type": "stream",
     "text": [
      "Python\n",
      "program\n",
      "greater\n",
      "length\n"
     ]
    }
   ],
   "source": [
    "sent = '1. Write a Python program to find words which are greater than given length k?'\n",
    "sent = sent.split()\n",
    "k = 5\n",
    "for word in sent:\n",
    "    if len(word)>k:\n",
    "        print(word)"
   ]
  },
  {
   "cell_type": "markdown",
   "id": "6e5a4a1b",
   "metadata": {},
   "source": [
    "2.Write a Python program for removing i-th character from a string?"
   ]
  },
  {
   "cell_type": "code",
   "execution_count": 2,
   "id": "35fb4f33",
   "metadata": {},
   "outputs": [
    {
     "name": "stdout",
     "output_type": "stream",
     "text": [
      "charater\n"
     ]
    }
   ],
   "source": [
    "sent = 'character'\n",
    "i = 5\n",
    "re = ''\n",
    "for j in range(len(sent)):\n",
    "    if j !=i:\n",
    "        re = re +str(sent[j])\n",
    "print(re)"
   ]
  },
  {
   "cell_type": "markdown",
   "id": "cb14ab01",
   "metadata": {},
   "source": [
    "3.Write a Python program to split and join a string?"
   ]
  },
  {
   "cell_type": "code",
   "execution_count": 3,
   "id": "b7db7493",
   "metadata": {},
   "outputs": [],
   "source": [
    "sent = 'Write a Python program to split and join a string'\n",
    "re = sent.split()"
   ]
  },
  {
   "cell_type": "code",
   "execution_count": 4,
   "id": "011a0c49",
   "metadata": {},
   "outputs": [
    {
     "data": {
      "text/plain": [
       "['Write',\n",
       " 'a',\n",
       " 'Python',\n",
       " 'program',\n",
       " 'to',\n",
       " 'split',\n",
       " 'and',\n",
       " 'join',\n",
       " 'a',\n",
       " 'string']"
      ]
     },
     "execution_count": 4,
     "metadata": {},
     "output_type": "execute_result"
    }
   ],
   "source": [
    "re"
   ]
  },
  {
   "cell_type": "code",
   "execution_count": 5,
   "id": "c8240c8c",
   "metadata": {},
   "outputs": [
    {
     "name": "stdout",
     "output_type": "stream",
     "text": [
      "Write\n",
      "a\n",
      "Python\n",
      "program\n",
      "to\n",
      "split\n",
      "and\n",
      "join\n",
      "a\n",
      "string\n"
     ]
    }
   ],
   "source": [
    "\n",
    "for i in re: \n",
    "    er = ''.join(i)\n",
    "    print(er)"
   ]
  },
  {
   "cell_type": "markdown",
   "id": "097aa610",
   "metadata": {},
   "source": [
    "4.Write a Python to check if a given string is binary string or not?"
   ]
  },
  {
   "cell_type": "code",
   "execution_count": 6,
   "id": "4448ad18",
   "metadata": {},
   "outputs": [],
   "source": [
    "def check(string):\n",
    "    p = set(string)\n",
    "    s = {'0', '1'}\n",
    "    if s == p or p == {'0'} or p == {'1'}:\n",
    "        print(\"Yes\")\n",
    "    else:\n",
    "        print(\"No\")"
   ]
  },
  {
   "cell_type": "code",
   "execution_count": 7,
   "id": "3c3126a2",
   "metadata": {},
   "outputs": [
    {
     "name": "stdout",
     "output_type": "stream",
     "text": [
      "No\n"
     ]
    }
   ],
   "source": [
    "check('003230459')"
   ]
  },
  {
   "cell_type": "markdown",
   "id": "7cdb1a87",
   "metadata": {},
   "source": [
    "5.Write a Python program to find uncommon words from two Strings?"
   ]
  },
  {
   "cell_type": "code",
   "execution_count": 8,
   "id": "b9898b8f",
   "metadata": {},
   "outputs": [
    {
     "name": "stdout",
     "output_type": "stream",
     "text": [
      " apple fruits\n"
     ]
    }
   ],
   "source": [
    "def uncommon(a,b):\n",
    "    list_a = a.split()\n",
    "    list_b = b.split()\n",
    "    uc = ''\n",
    "    for i in list_a:\n",
    "        if i not in list_b:\n",
    "            uc = uc+\" \"+i\n",
    "    for j in list_b:\n",
    "        if j not in list_a:\n",
    "            uc = uc+\" \"+j\n",
    "\n",
    "    return uc\n",
    "\n",
    "# Driver code\n",
    "a = \"apple banana mango\"\n",
    "b = \"banana fruits mango\"\n",
    "print(uncommon(a,b))\n"
   ]
  },
  {
   "cell_type": "markdown",
   "id": "90e4501e",
   "metadata": {},
   "source": [
    "6.Write a Python to find all duplicate characters in string?"
   ]
  },
  {
   "cell_type": "code",
   "execution_count": 13,
   "id": "4a925993",
   "metadata": {},
   "outputs": [
    {
     "name": "stdout",
     "output_type": "stream",
     "text": [
      "a n  \n"
     ]
    }
   ],
   "source": [
    "string = \"banana fruits mango\"\n",
    "duplicates = []\n",
    "for char in string:\n",
    "      if string.count(char) > 1:\n",
    "  \n",
    "       if char not in duplicates:\n",
    "        duplicates.append(char)\n",
    "print(*duplicates)"
   ]
  },
  {
   "cell_type": "markdown",
   "id": "f0c60483",
   "metadata": {},
   "source": [
    "7.Write a Python Program to check if a string contains any special character?"
   ]
  },
  {
   "cell_type": "code",
   "execution_count": 18,
   "id": "604c7f73",
   "metadata": {},
   "outputs": [
    {
     "name": "stdout",
     "output_type": "stream",
     "text": [
      "4256187*((\n",
      "yes\n"
     ]
    }
   ],
   "source": [
    "special_characters = \"!@#$%^&*()-+?_=,<>/\"\n",
    "s=input()\n",
    "\n",
    "\n",
    "if any(c in special_characters for c in s):\n",
    "    print('yes')\n",
    "else:\n",
    "    print(\"no\")"
   ]
  },
  {
   "cell_type": "code",
   "execution_count": null,
   "id": "9148825b",
   "metadata": {},
   "outputs": [],
   "source": []
  }
 ],
 "metadata": {
  "kernelspec": {
   "display_name": "Python 3 (ipykernel)",
   "language": "python",
   "name": "python3"
  },
  "language_info": {
   "codemirror_mode": {
    "name": "ipython",
    "version": 3
   },
   "file_extension": ".py",
   "mimetype": "text/x-python",
   "name": "python",
   "nbconvert_exporter": "python",
   "pygments_lexer": "ipython3",
   "version": "3.9.12"
  }
 },
 "nbformat": 4,
 "nbformat_minor": 5
}
