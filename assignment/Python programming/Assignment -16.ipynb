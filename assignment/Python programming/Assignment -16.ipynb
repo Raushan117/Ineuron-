{
 "cells": [
  {
   "cell_type": "markdown",
   "id": "fccb58a9",
   "metadata": {},
   "source": [
    "> 1. Write a function that stutters a word as if someone is struggling to read it. The first two letters are repeated twice with an ellipsis ... and space after each, and then the word is pronounced with a question mark ?."
   ]
  },
  {
   "cell_type": "code",
   "execution_count": 2,
   "id": "10287e3b",
   "metadata": {},
   "outputs": [
    {
     "name": "stdout",
     "output_type": "stream",
     "text": [
      "Enter your wordEntertainment \n"
     ]
    },
    {
     "data": {
      "text/plain": [
       "'En... En... Entertainment ?'"
      ]
     },
     "execution_count": 2,
     "metadata": {},
     "output_type": "execute_result"
    }
   ],
   "source": [
    "def sutter(word):\n",
    "    return (2*(word[:2]+'... ') +word + '?')\n",
    "word = input('Enter your word')\n",
    "sutter(word)"
   ]
  },
  {
   "cell_type": "markdown",
   "id": "0f03c393",
   "metadata": {},
   "source": [
    ">2.Create a function that takes an angle in radians and returns the corresponding angle in degrees rounded to one decimal place."
   ]
  },
  {
   "cell_type": "code",
   "execution_count": 3,
   "id": "96769113",
   "metadata": {},
   "outputs": [
    {
     "name": "stdout",
     "output_type": "stream",
     "text": [
      "Enter the radian number20\n"
     ]
    },
    {
     "data": {
      "text/plain": [
       "1145.9165581759555"
      ]
     },
     "execution_count": 3,
     "metadata": {},
     "output_type": "execute_result"
    }
   ],
   "source": [
    "def radian_to_degree(radian):\n",
    "    pi = 3.14159\n",
    "    degree = radian*(180/pi)\n",
    "    return degree\n",
    "radian = int(input('Enter the radian number'))\n",
    "radian_to_degree(radian)"
   ]
  },
  {
   "cell_type": "markdown",
   "id": "8665d4e8",
   "metadata": {},
   "source": [
    ">3. In this challenge, establish if a given integer num is a Curzon number. If 1 plus 2 elevated to num is exactly divisible by 1 plus 2 multiplied by num, then num is a Curzon number.\n",
    "\n",
    "Given a non-negative integer num, implement a function that returns True if num is a Curzon number, or False otherwise."
   ]
  },
  {
   "cell_type": "code",
   "execution_count": 8,
   "id": "24c46001",
   "metadata": {},
   "outputs": [
    {
     "name": "stdout",
     "output_type": "stream",
     "text": [
      "Enter any number14\n",
      "14 is a Curzon Number\n"
     ]
    }
   ],
   "source": [
    "def  curzon_number(n):\n",
    "    power,product = 0,0\n",
    "    power = 2**n +1\n",
    "    product = 2*n +1\n",
    "    if power % product== 0:\n",
    "        print(n , 'is a Curzon Number')\n",
    "    else:\n",
    "        print(n, 'is not a Carzon number')\n",
    "n = int(input('Enter any number'))\n",
    "if n > 0:\n",
    "    curzon_number(n)\n",
    "else:\n",
    "    False"
   ]
  },
  {
   "cell_type": "markdown",
   "id": "57daaafc",
   "metadata": {},
   "source": [
    "> 4.Given the side length x find the area of a hexagon."
   ]
  },
  {
   "cell_type": "markdown",
   "id": "fcfb5681",
   "metadata": {},
   "source": [
    "Examples\n",
    "area_of_hexagon(1) ➞ 2.6\n",
    "\n",
    "area_of_hexagon(2) ➞ 10.4\n",
    "\n",
    "area_of_hexagon(3) ➞ 23.4"
   ]
  },
  {
   "cell_type": "code",
   "execution_count": 12,
   "id": "382baf11",
   "metadata": {},
   "outputs": [
    {
     "name": "stdout",
     "output_type": "stream",
     "text": [
      "Enter the length : 3\n",
      "Area: 23.3827\n"
     ]
    }
   ],
   "source": [
    "import math\n",
    "def area_of_hexagon(s):\n",
    "    return ((3*math.sqrt(3)*s**2)/2)\n",
    "s = float(input('Enter the length : '))\n",
    "print(\"Area:\",\"{0:.4f}\".format(area_of_hexagon(s)))"
   ]
  },
  {
   "cell_type": "markdown",
   "id": "30700603",
   "metadata": {},
   "source": [
    "> 5. Create a function that returns a base-2 (binary) representation of a base-10 (decimal) string number. To convert is simple: ((2) means base-2 and (10) means base-10) 010101001(2) = 1 + 8 + 32 + 128.\n",
    "\n",
    "Going from right to left, the value of the most right bit is 1, now from that every bit to the left will be x2 the value, value of an 8 bit binary numbers are (256, 128, 64, 32, 16, 8, 4, 2, 1)."
   ]
  },
  {
   "cell_type": "code",
   "execution_count": null,
   "id": "dcb80e42",
   "metadata": {},
   "outputs": [],
   "source": []
  }
 ],
 "metadata": {
  "kernelspec": {
   "display_name": "Python 3 (ipykernel)",
   "language": "python",
   "name": "python3"
  },
  "language_info": {
   "codemirror_mode": {
    "name": "ipython",
    "version": 3
   },
   "file_extension": ".py",
   "mimetype": "text/x-python",
   "name": "python",
   "nbconvert_exporter": "python",
   "pygments_lexer": "ipython3",
   "version": "3.9.12"
  }
 },
 "nbformat": 4,
 "nbformat_minor": 5
}
