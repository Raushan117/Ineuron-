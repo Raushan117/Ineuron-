{
 "cells": [
  {
   "cell_type": "markdown",
   "id": "ffc9575a",
   "metadata": {},
   "source": [
    "1.Write a Python Program to Find LCM?"
   ]
  },
  {
   "cell_type": "code",
   "execution_count": 15,
   "id": "c05bd118",
   "metadata": {},
   "outputs": [],
   "source": [
    "def lcm(a,b):\n",
    "    if a > b:\n",
    "        greater = a\n",
    "    else:\n",
    "        greater = b\n",
    "    while(True):\n",
    "        if (greater % a ==0) and (greater % b == 0):\n",
    "            l = greater \n",
    "            break\n",
    "        greater +=1\n",
    "    return l"
   ]
  },
  {
   "cell_type": "code",
   "execution_count": 16,
   "id": "a58364de",
   "metadata": {},
   "outputs": [
    {
     "data": {
      "text/plain": [
       "12"
      ]
     },
     "execution_count": 16,
     "metadata": {},
     "output_type": "execute_result"
    }
   ],
   "source": [
    "lcm(3,4)"
   ]
  },
  {
   "cell_type": "markdown",
   "id": "e2a56a6a",
   "metadata": {},
   "source": [
    "2.Write a Python Program to Find HCF?"
   ]
  },
  {
   "cell_type": "code",
   "execution_count": 17,
   "id": "d5298c50",
   "metadata": {},
   "outputs": [],
   "source": [
    "def hcf(a,b):\n",
    "    if a<b:\n",
    "        lower = a\n",
    "    else:\n",
    "        lower = b \n",
    "    while(True):\n",
    "        if (a % lower == 0) and (b % lower == 0):\n",
    "            h = lower\n",
    "            break\n",
    "        lower -=1\n",
    "    return h"
   ]
  },
  {
   "cell_type": "code",
   "execution_count": 19,
   "id": "4b322191",
   "metadata": {},
   "outputs": [
    {
     "data": {
      "text/plain": [
       "3"
      ]
     },
     "execution_count": 19,
     "metadata": {},
     "output_type": "execute_result"
    }
   ],
   "source": [
    "hcf(6,3)"
   ]
  },
  {
   "cell_type": "markdown",
   "id": "e0294387",
   "metadata": {},
   "source": [
    "3.Write a Python Program to Convert Decimal to Binary, Octal and Hexadecimal?"
   ]
  },
  {
   "cell_type": "code",
   "execution_count": 20,
   "id": "c013eb3b",
   "metadata": {},
   "outputs": [
    {
     "name": "stdout",
     "output_type": "stream",
     "text": [
      "Enter Any Value34\n",
      "0o42  in octal\n",
      "0b100010 in Binary\n",
      "0x22  in hexadecimal \n"
     ]
    }
   ],
   "source": [
    "a = int(input('Enter Any Value'))\n",
    "\n",
    "print(oct(a), \" in octal\")\n",
    "print(bin(a),  \"in Binary\")\n",
    "print(hex(a),  \" in hexadecimal \")"
   ]
  },
  {
   "cell_type": "markdown",
   "id": "548eef36",
   "metadata": {},
   "source": [
    "4.Write a Python Program To Find ASCII value of a character?"
   ]
  },
  {
   "cell_type": "code",
   "execution_count": 22,
   "id": "22c7e9aa",
   "metadata": {},
   "outputs": [
    {
     "name": "stdout",
     "output_type": "stream",
     "text": [
      "The ASCII value of 'm' is 109\n"
     ]
    }
   ],
   "source": [
    "c = 'm'\n",
    "print(\"The ASCII value of '\" + c + \"' is\", ord(c))"
   ]
  },
  {
   "cell_type": "markdown",
   "id": "91557f55",
   "metadata": {},
   "source": [
    "5.Write a Python Program to Make a Simple Calculator with 4 basic mathematical operations?"
   ]
  },
  {
   "cell_type": "code",
   "execution_count": 30,
   "id": "70a771d8",
   "metadata": {},
   "outputs": [
    {
     "name": "stdout",
     "output_type": "stream",
     "text": [
      "Please select operation -\n",
      "1. Add\n",
      "2. Subtract\n",
      "3. Multiply\n",
      "4. Divide\n",
      "\n",
      "please select operations form 1, 2, 3, 4 3\n",
      "Enter first number6\n",
      "enter second number7\n",
      "multiple is =  42\n"
     ]
    }
   ],
   "source": [
    "class cal:\n",
    "    def add(a,b):\n",
    "        return a+b\n",
    "    def sub(a,b):\n",
    "        return a-b\n",
    "    def Mult(a,b):\n",
    "        return a*b\n",
    "    def div(a,b):\n",
    "        return a/b\n",
    "    print(\"Please select operation -\\n\" \\\n",
    "        \"1. Add\\n\" \\\n",
    "        \"2. Subtract\\n\" \\\n",
    "        \"3. Multiply\\n\" \\\n",
    "        \"4. Divide\\n\")\n",
    "    c = int (input('please select operations form 1, 2, 3, 4 '))\n",
    "    a = int(input('Enter first number'))\n",
    "    b = int(input(\"enter second number\"))\n",
    "    \n",
    "    if c == 1:\n",
    "        print(\"addition is =\",cal.add(a,b))\n",
    "    elif c == 2:\n",
    "        print(\"subtraction in  =\",cal.sub(a,b))\n",
    "    elif c == 3:\n",
    "        print(\"multiple is = \",cal.Mult(a,b))\n",
    "    else:\n",
    "        print(\"division is = \",cal.div(a,b))"
   ]
  },
  {
   "cell_type": "code",
   "execution_count": null,
   "id": "c5d976d3",
   "metadata": {},
   "outputs": [],
   "source": []
  }
 ],
 "metadata": {
  "kernelspec": {
   "display_name": "Python 3 (ipykernel)",
   "language": "python",
   "name": "python3"
  },
  "language_info": {
   "codemirror_mode": {
    "name": "ipython",
    "version": 3
   },
   "file_extension": ".py",
   "mimetype": "text/x-python",
   "name": "python",
   "nbconvert_exporter": "python",
   "pygments_lexer": "ipython3",
   "version": "3.9.12"
  }
 },
 "nbformat": 4,
 "nbformat_minor": 5
}
