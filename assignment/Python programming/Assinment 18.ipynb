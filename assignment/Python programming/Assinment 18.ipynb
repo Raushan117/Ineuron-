{
 "cells": [
  {
   "cell_type": "markdown",
   "id": "b0ef9bd1",
   "metadata": {},
   "source": [
    ">Q. Create a function that takes a list of non-negative integers and strings and return a new list\n",
    "without the strings.\n",
    "\n",
    "Examples\n",
    "filter_list([1, 2, 'a', 'b']) ➞ [1, 2]\n",
    "filter_list([1, 'a', 'b', 0, 15]) ➞ [1, 0, 15]\n",
    "filter_list([1, 2, 'aasf', '1', '123', 123]) ➞ [1, 2, 123]"
   ]
  },
  {
   "cell_type": "code",
   "execution_count": 5,
   "id": "27e30f8b",
   "metadata": {},
   "outputs": [
    {
     "data": {
      "text/plain": [
       "[1, 35, 5, 8, 3, 9, 7, 3]"
      ]
     },
     "execution_count": 5,
     "metadata": {},
     "output_type": "execute_result"
    }
   ],
   "source": [
    "def filter_list(L):\n",
    "    new_list = []\n",
    "    for i in L:\n",
    "        if type(i)== int:\n",
    "            new_list.append(i)\n",
    "    return new_list\n",
    "L = [1,35,5,8,3,'%macro',9,'f','s',7,3,'r','j','s']\n",
    "filter_list(L)"
   ]
  },
  {
   "cell_type": "markdown",
   "id": "11f151b7",
   "metadata": {},
   "source": [
    "> Q. The 'Reverser' takes a string as input and returns that string in reverse order, with the\n",
    "opposite case.\n",
    "\n",
    "Examples\n",
    "reverse('Hello World') ➞ 'DLROw OLLEh'\n",
    "reverse('ReVeRsE') ➞ 'eSrEvEr'\n",
    "reverse('Radar') ➞ 'RADAr'"
   ]
  },
  {
   "cell_type": "code",
   "execution_count": 8,
   "id": "f9446156",
   "metadata": {},
   "outputs": [
    {
     "name": "stdout",
     "output_type": "stream",
     "text": [
      "hello\n"
     ]
    },
    {
     "data": {
      "text/plain": [
       "'OLLEH'"
      ]
     },
     "execution_count": 8,
     "metadata": {},
     "output_type": "execute_result"
    }
   ],
   "source": [
    "def reverse(string):\n",
    "    string = string[::-1]\n",
    "    return string.swapcase()\n",
    "string = str(input())\n",
    "reverse(string)"
   ]
  },
  {
   "cell_type": "code",
   "execution_count": null,
   "id": "5603b84b",
   "metadata": {},
   "outputs": [],
   "source": []
  }
 ],
 "metadata": {
  "kernelspec": {
   "display_name": "Python 3 (ipykernel)",
   "language": "python",
   "name": "python3"
  },
  "language_info": {
   "codemirror_mode": {
    "name": "ipython",
    "version": 3
   },
   "file_extension": ".py",
   "mimetype": "text/x-python",
   "name": "python",
   "nbconvert_exporter": "python",
   "pygments_lexer": "ipython3",
   "version": "3.9.12"
  }
 },
 "nbformat": 4,
 "nbformat_minor": 5
}
