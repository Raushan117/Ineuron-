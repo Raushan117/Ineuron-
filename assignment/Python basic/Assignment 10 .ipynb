{
 "cells": [
  {
   "cell_type": "markdown",
   "id": "6077dbf3",
   "metadata": {},
   "source": [
    "1. How do you distinguish between shutil.copy() and shutil.copytree()?"
   ]
  },
  {
   "cell_type": "raw",
   "id": "9d941ae0",
   "metadata": {},
   "source": [
    "he shutil.copy() function will copy a single file, while shutil.copytree() will copy an entire folder, along with all its contents."
   ]
  },
  {
   "cell_type": "markdown",
   "id": "0234289f",
   "metadata": {},
   "source": [
    "2. What function is used to rename files??"
   ]
  },
  {
   "cell_type": "raw",
   "id": "905f7981",
   "metadata": {},
   "source": [
    "os.rename() function use to rename the file."
   ]
  },
  {
   "cell_type": "code",
   "execution_count": 4,
   "id": "fe6ec0ab",
   "metadata": {},
   "outputs": [],
   "source": [
    "import os\n",
    "\n",
    "r = 'C:/Users/raush/OneDrive/Desktop/hello.txt'\n",
    "s = 'C:/Users/raush/OneDrive/Desktop/resignation.txt'"
   ]
  },
  {
   "cell_type": "code",
   "execution_count": 5,
   "id": "eae86b42",
   "metadata": {},
   "outputs": [],
   "source": [
    "os.rename(r,s)"
   ]
  },
  {
   "cell_type": "markdown",
   "id": "1090c826",
   "metadata": {},
   "source": [
    "3. What is the difference between the delete functions in the send2trash and shutil modules?"
   ]
  },
  {
   "cell_type": "raw",
   "id": "4fafd280",
   "metadata": {},
   "source": [
    "The send2trash functions will move a file or folder to the recycle bin, while shutil functions will permanently delete files and folders."
   ]
  },
  {
   "cell_type": "markdown",
   "id": "dbc19e4e",
   "metadata": {},
   "source": [
    "4. ZipFile objects have a close() method just like File objects’ close() method. What ZipFile method is equivalent to File objects’ open() method"
   ]
  },
  {
   "cell_type": "code",
   "execution_count": null,
   "id": "022f58d1",
   "metadata": {},
   "outputs": [],
   "source": [
    "import zipfile\n",
    "\n",
    "# zip file handler  \n",
    "zip = zipfile.ZipFile('filename.zip')\n",
    "\n",
    "# list available files in the container\n",
    "print (zip.namelist())\n",
    "\n",
    "# extract a specific file from the zip container\n",
    "f = zip.open(\"file_inside_zip.txt\")\n",
    "\n",
    "# save the extraced file \n",
    "content = f.read()\n",
    "f = open('file_inside_zip.extracted.txt', 'wb')\n",
    "f.write(content)\n",
    "f.close()"
   ]
  },
  {
   "cell_type": "markdown",
   "id": "cbdaf350",
   "metadata": {},
   "source": [
    "5. Create a programme that searches a folder tree for files with a certain file extension (such as .pdf or .jpg). Copy these files from whatever location they are in to a new folder."
   ]
  },
  {
   "cell_type": "code",
   "execution_count": null,
   "id": "4c0cdd93",
   "metadata": {},
   "outputs": [],
   "source": []
  }
 ],
 "metadata": {
  "kernelspec": {
   "display_name": "Python 3 (ipykernel)",
   "language": "python",
   "name": "python3"
  },
  "language_info": {
   "codemirror_mode": {
    "name": "ipython",
    "version": 3
   },
   "file_extension": ".py",
   "mimetype": "text/x-python",
   "name": "python",
   "nbconvert_exporter": "python",
   "pygments_lexer": "ipython3",
   "version": "3.9.12"
  }
 },
 "nbformat": 4,
 "nbformat_minor": 5
}
