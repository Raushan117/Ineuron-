{
 "cells": [
  {
   "cell_type": "markdown",
   "id": "4c2bcd46",
   "metadata": {},
   "source": [
    "1. Create an assert statement that throws an AssertionError if the variable spam is a negative integer"
   ]
  },
  {
   "cell_type": "code",
   "execution_count": 5,
   "id": "2d6efe08",
   "metadata": {},
   "outputs": [],
   "source": [
    "spam = 100"
   ]
  },
  {
   "cell_type": "code",
   "execution_count": 30,
   "id": "079d69aa",
   "metadata": {},
   "outputs": [
    {
     "ename": "AssertionError",
     "evalue": "Your spam is negative integer!",
     "output_type": "error",
     "traceback": [
      "\u001b[1;31m---------------------------------------------------------------------------\u001b[0m",
      "\u001b[1;31mAssertionError\u001b[0m                            Traceback (most recent call last)",
      "Input \u001b[1;32mIn [30]\u001b[0m, in \u001b[0;36m<cell line: 1>\u001b[1;34m()\u001b[0m\n\u001b[1;32m----> 1\u001b[0m \u001b[38;5;28;01massert\u001b[39;00m spam \u001b[38;5;241m<\u001b[39m\u001b[38;5;241m=\u001b[39m \u001b[38;5;241m0\u001b[39m, \u001b[38;5;124m'\u001b[39m\u001b[38;5;124mYour spam is negative integer!\u001b[39m\u001b[38;5;124m'\u001b[39m\n",
      "\u001b[1;31mAssertionError\u001b[0m: Your spam is negative integer!"
     ]
    }
   ],
   "source": [
    "assert spam <= 0, 'Your spam is negative integer!'"
   ]
  },
  {
   "cell_type": "raw",
   "id": "7d93f416",
   "metadata": {},
   "source": [
    "Remember, if you want it to throw error if it is less than 0\n",
    "then you have to test if it is greater than 0.\n",
    "Less than 0 is the error condition, not the expression for assert."
   ]
  },
  {
   "cell_type": "markdown",
   "id": "b5dfe29a",
   "metadata": {},
   "source": [
    " 2.Write an assert statement that triggers an AssertionError if the variables eggs and bacon contain strings that are the same as each other, even if their cases are different (that is, 'hello' and 'hello' are considered the same, and 'goodbye' and 'GOODbye' are also considered the same)."
   ]
  },
  {
   "cell_type": "code",
   "execution_count": 19,
   "id": "8715fcc6",
   "metadata": {},
   "outputs": [],
   "source": [
    "eggs = 'GOODbye'\n",
    "bacon = 'good bye'"
   ]
  },
  {
   "cell_type": "code",
   "execution_count": 31,
   "id": "01bc38bf",
   "metadata": {},
   "outputs": [
    {
     "ename": "AssertionError",
     "evalue": "eggs/bacon should not be the same!",
     "output_type": "error",
     "traceback": [
      "\u001b[1;31m---------------------------------------------------------------------------\u001b[0m",
      "\u001b[1;31mAssertionError\u001b[0m                            Traceback (most recent call last)",
      "Input \u001b[1;32mIn [31]\u001b[0m, in \u001b[0;36m<cell line: 1>\u001b[1;34m()\u001b[0m\n\u001b[1;32m----> 1\u001b[0m \u001b[38;5;28;01massert\u001b[39;00m eggs\u001b[38;5;241m.\u001b[39mlower() \u001b[38;5;241m==\u001b[39m bacon\u001b[38;5;241m.\u001b[39mlower,\u001b[38;5;124m'\u001b[39m\u001b[38;5;124meggs/bacon should not be the same!\u001b[39m\u001b[38;5;124m'\u001b[39m\n",
      "\u001b[1;31mAssertionError\u001b[0m: eggs/bacon should not be the same!"
     ]
    }
   ],
   "source": [
    "assert eggs.lower() == bacon.lower,'eggs/bacon should not be the same!'"
   ]
  },
  {
   "cell_type": "markdown",
   "id": "8c0c1149",
   "metadata": {},
   "source": [
    "3. Create an assert statement that throws an AssertionError every time."
   ]
  },
  {
   "cell_type": "code",
   "execution_count": 42,
   "id": "a3be09e7",
   "metadata": {},
   "outputs": [
    {
     "ename": "AssertionError",
     "evalue": "Always triggers an AssertionError.",
     "output_type": "error",
     "traceback": [
      "\u001b[1;31m---------------------------------------------------------------------------\u001b[0m",
      "\u001b[1;31mAssertionError\u001b[0m                            Traceback (most recent call last)",
      "Input \u001b[1;32mIn [42]\u001b[0m, in \u001b[0;36m<cell line: 3>\u001b[1;34m()\u001b[0m\n\u001b[0;32m      1\u001b[0m e\u001b[38;5;241m=\u001b[39m \u001b[38;5;241m3\u001b[39m\n\u001b[0;32m      2\u001b[0m f \u001b[38;5;241m=\u001b[39m \u001b[38;5;241m5\u001b[39m\n\u001b[1;32m----> 3\u001b[0m \u001b[38;5;28;01massert\u001b[39;00m \u001b[38;5;28;01mFalse\u001b[39;00m, \u001b[38;5;124m'\u001b[39m\u001b[38;5;124mAlways triggers an AssertionError.\u001b[39m\u001b[38;5;124m'\u001b[39m\n",
      "\u001b[1;31mAssertionError\u001b[0m: Always triggers an AssertionError."
     ]
    }
   ],
   "source": [
    "e= 3\n",
    "f = 5\n",
    "assert False, 'Always triggers an AssertionError.'\n"
   ]
  },
  {
   "cell_type": "markdown",
   "id": "b7ddd089",
   "metadata": {},
   "source": [
    "4. What are the two lines that must be present in your software in order to call logging.debug()?"
   ]
  },
  {
   "cell_type": "code",
   "execution_count": 44,
   "id": "ee450f4b",
   "metadata": {},
   "outputs": [],
   "source": [
    "import logging\n",
    "logging.basicConfig(\n",
    "    filename='programLog.txt',\n",
    "    level=logging.DEBUG,\n",
    "    format='%(asctime)s - %(levelname)s - %(message)s'\n",
    ")"
   ]
  },
  {
   "cell_type": "markdown",
   "id": "1ebbe156",
   "metadata": {},
   "source": [
    "5. What are the two lines that your program must have in order to have logging.debug() send a logging message to a file named programLog.txt?"
   ]
  },
  {
   "cell_type": "code",
   "execution_count": 47,
   "id": "de48d03b",
   "metadata": {},
   "outputs": [],
   "source": [
    "logging.debug('message ')"
   ]
  },
  {
   "cell_type": "raw",
   "id": "f54711db",
   "metadata": {},
   "source": [
    "2023-01-26 14:42:40,062 - DEBUG - message "
   ]
  },
  {
   "cell_type": "markdown",
   "id": "8ffb3712",
   "metadata": {},
   "source": [
    "6. What are the five levels of logging?"
   ]
  },
  {
   "cell_type": "raw",
   "id": "391a03f2",
   "metadata": {},
   "source": [
    " logging.debug() - variable's state and small details\n",
    " logging.info() - general events, confirm a program is working\n",
    " logging.warning() - potiental problem to work on in the future\n",
    " logging.error() - record an error that caused program to fail to do something\n",
    " logging.critical() - fatal error that has caused"
   ]
  },
  {
   "cell_type": "markdown",
   "id": "0491d89a",
   "metadata": {},
   "source": [
    "7. What line of code would you add to your software to disable all logging messages"
   ]
  },
  {
   "cell_type": "code",
   "execution_count": 49,
   "id": "ab35be4e",
   "metadata": {},
   "outputs": [],
   "source": [
    "logging.disable(logging.DEBUG)"
   ]
  },
  {
   "cell_type": "markdown",
   "id": "4e2404b4",
   "metadata": {},
   "source": [
    "8.Why is using logging messages better than using print() to display the same message?"
   ]
  },
  {
   "cell_type": "raw",
   "id": "709f1ffc",
   "metadata": {},
   "source": [
    "Because with print, when your program is ready for production, you still\n",
    "have to \"remove\" or comment it out. Verses logging message, you can toggle\n",
    "the setting on/off or write to a file (send to a server). It is more flexible\n",
    "especially with logging level 1-5."
   ]
  },
  {
   "cell_type": "markdown",
   "id": "285fbce9",
   "metadata": {},
   "source": [
    "9. What are the differences between the Step Over, Step In, and Step Out buttons in the debugger?"
   ]
  },
  {
   "cell_type": "raw",
   "id": "e3436104",
   "metadata": {},
   "source": [
    "Step - one line execution at a time\n",
    "Over - excecute the next line of code, but if it is a program, it will\n",
    "        complete the entire function call.\n",
    "out  - execute the lines of code unti it returns from the current function.\n",
    "        (out is useful when you stepped into a function call).\n"
   ]
  },
  {
   "cell_type": "markdown",
   "id": "114dc994",
   "metadata": {},
   "source": [
    "10.After you click Continue, when will the debugger stop ?"
   ]
  },
  {
   "cell_type": "code",
   "execution_count": null,
   "id": "f13c9bbf",
   "metadata": {},
   "outputs": [],
   "source": []
  }
 ],
 "metadata": {
  "kernelspec": {
   "display_name": "Python 3 (ipykernel)",
   "language": "python",
   "name": "python3"
  },
  "language_info": {
   "codemirror_mode": {
    "name": "ipython",
    "version": 3
   },
   "file_extension": ".py",
   "mimetype": "text/x-python",
   "name": "python",
   "nbconvert_exporter": "python",
   "pygments_lexer": "ipython3",
   "version": "3.9.12"
  }
 },
 "nbformat": 4,
 "nbformat_minor": 5
}
