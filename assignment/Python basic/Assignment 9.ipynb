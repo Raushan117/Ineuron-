{
 "cells": [
  {
   "cell_type": "markdown",
   "id": "551d57cb",
   "metadata": {},
   "source": [
    "1. To what does a relative path refer?"
   ]
  },
  {
   "cell_type": "raw",
   "id": "a89cb028",
   "metadata": {},
   "source": [
    "Relative path is defined as the path related to the present working directly(pwd)\n",
    "\n",
    ".(a single dot) - this represents the current directory.\n",
    "..(two dots) - this represents the parent directory."
   ]
  },
  {
   "cell_type": "markdown",
   "id": "1354edf2",
   "metadata": {},
   "source": [
    "2. What does an absolute path start with your operating system?"
   ]
  },
  {
   "cell_type": "raw",
   "id": "e1f06e08",
   "metadata": {},
   "source": [
    "An absolute path is defined as the specifying the location of a file or directory from the root directory(/ or \\\\)."
   ]
  },
  {
   "cell_type": "code",
   "execution_count": 3,
   "id": "372429f0",
   "metadata": {},
   "outputs": [
    {
     "data": {
      "text/plain": [
       "'C:\\\\Users\\\\raush\\\\OneDrive\\\\Desktop\\\\Ineuron Course\\\\assignment\\\\Python basic'"
      ]
     },
     "execution_count": 3,
     "metadata": {},
     "output_type": "execute_result"
    }
   ],
   "source": [
    "pwd()"
   ]
  },
  {
   "cell_type": "markdown",
   "id": "7d04db85",
   "metadata": {},
   "source": [
    "3. What do the functions os.getcwd() and os.chdir() do?"
   ]
  },
  {
   "cell_type": "raw",
   "id": "2cdcac72",
   "metadata": {},
   "source": [
    "os.getcwd() -- getting current working Directory\n",
    "os.chdir()  -- use to change working Directory."
   ]
  },
  {
   "cell_type": "markdown",
   "id": "ad55e0c4",
   "metadata": {},
   "source": [
    "4. What are the . and .. folders?"
   ]
  },
  {
   "cell_type": "raw",
   "id": "e3e5223d",
   "metadata": {},
   "source": [
    ".(a single dot) - this represents the current directory.\n",
    "..(two dots) - this represents the parent directory."
   ]
  },
  {
   "cell_type": "markdown",
   "id": "fd6ea60c",
   "metadata": {},
   "source": [
    "5. In C:\\bacon\\eggs\\spam.txt, which part is the dir name, and which part is the base name?"
   ]
  },
  {
   "cell_type": "raw",
   "id": "61062c9e",
   "metadata": {},
   "source": [
    "dir name -- C:\\bacon\\eggs\n",
    "base name -- spam.txt"
   ]
  },
  {
   "cell_type": "markdown",
   "id": "12640659",
   "metadata": {},
   "source": [
    "6. What are the three “mode” arguments that can be passed to the open() function?"
   ]
  },
  {
   "cell_type": "raw",
   "id": "eba479d5",
   "metadata": {},
   "source": [
    "open()\n",
    "open('','r') -- open with read\n",
    "open('','w') open with write"
   ]
  },
  {
   "cell_type": "markdown",
   "id": "42079c4b",
   "metadata": {},
   "source": [
    "7. What happens if an existing file is opened in write mode?"
   ]
  },
  {
   "cell_type": "raw",
   "id": "8a4528e4",
   "metadata": {},
   "source": [
    "its contents are discarded and the file is treated as a new empty file"
   ]
  },
  {
   "cell_type": "code",
   "execution_count": 18,
   "id": "4b9eac63",
   "metadata": {},
   "outputs": [],
   "source": [
    "c = open('9.txt')"
   ]
  },
  {
   "cell_type": "code",
   "execution_count": 22,
   "id": "1cb9d035",
   "metadata": {},
   "outputs": [
    {
     "data": {
      "text/plain": [
       "'sdwlkjdlijwfwdenjwfw'"
      ]
     },
     "execution_count": 22,
     "metadata": {},
     "output_type": "execute_result"
    }
   ],
   "source": [
    "c.read()"
   ]
  },
  {
   "cell_type": "code",
   "execution_count": 25,
   "id": "54b209ff",
   "metadata": {},
   "outputs": [],
   "source": [
    "r = open('9.txt','w') # it will make the file blank"
   ]
  },
  {
   "cell_type": "code",
   "execution_count": 26,
   "id": "3146ff49",
   "metadata": {},
   "outputs": [],
   "source": [
    "e = open('9.txt')"
   ]
  },
  {
   "cell_type": "code",
   "execution_count": 28,
   "id": "33a130e0",
   "metadata": {},
   "outputs": [
    {
     "data": {
      "text/plain": [
       "''"
      ]
     },
     "execution_count": 28,
     "metadata": {},
     "output_type": "execute_result"
    }
   ],
   "source": [
    "e.read() # checking the write function is work properly or not"
   ]
  },
  {
   "cell_type": "markdown",
   "id": "4d4cb5d5",
   "metadata": {},
   "source": [
    "8. How do you tell the difference between read() and readlines()?"
   ]
  },
  {
   "cell_type": "code",
   "execution_count": 49,
   "id": "122f3036",
   "metadata": {},
   "outputs": [
    {
     "data": {
      "text/plain": [
       "'hello world\\n\\nefw\\new\\nwer\\nwer\\n'"
      ]
     },
     "execution_count": 49,
     "metadata": {},
     "output_type": "execute_result"
    }
   ],
   "source": [
    "a = open('9.txt')\n",
    "a.read()"
   ]
  },
  {
   "cell_type": "code",
   "execution_count": 45,
   "id": "abb663f6",
   "metadata": {},
   "outputs": [
    {
     "data": {
      "text/plain": [
       "['hello world\\n', '\\n', 'efw\\n', 'ew\\n', 'wer\\n', 'wer\\n']"
      ]
     },
     "execution_count": 45,
     "metadata": {},
     "output_type": "execute_result"
    }
   ],
   "source": [
    "a = open('9.txt')\n",
    "a.readlines() # it return value in  list "
   ]
  },
  {
   "cell_type": "markdown",
   "id": "0fceee10",
   "metadata": {},
   "source": [
    "9. What data structure does a shelf value resemble?"
   ]
  },
  {
   "cell_type": "raw",
   "id": "fbc69a78",
   "metadata": {},
   "source": [
    "A shelf value resembles a dictionary value; it has keys and values, along with keys() and values() methods that work similarly to the dictionary methods of the same names."
   ]
  },
  {
   "cell_type": "code",
   "execution_count": null,
   "id": "7860c316",
   "metadata": {},
   "outputs": [],
   "source": []
  }
 ],
 "metadata": {
  "kernelspec": {
   "display_name": "Python 3 (ipykernel)",
   "language": "python",
   "name": "python3"
  },
  "language_info": {
   "codemirror_mode": {
    "name": "ipython",
    "version": 3
   },
   "file_extension": ".py",
   "mimetype": "text/x-python",
   "name": "python",
   "nbconvert_exporter": "python",
   "pygments_lexer": "ipython3",
   "version": "3.9.12"
  }
 },
 "nbformat": 4,
 "nbformat_minor": 5
}
