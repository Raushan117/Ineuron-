{
 "cells": [
  {
   "cell_type": "markdown",
   "id": "375db794",
   "metadata": {},
   "source": [
    "1. What advantages do Excel spreadsheets have over CSV spreadsheets?"
   ]
  },
  {
   "cell_type": "raw",
   "id": "a4304bda",
   "metadata": {},
   "source": [
    "1 It is a binary file that holds information about all the worksheets in a workbook\n",
    "2 An Excel not only stores data but can also do operations on the data\n",
    "3 Files saved in excel cannot be opened or edited by text editors\n",
    "4 large files user is much easier in Excel for the end user. Also, you can have additional functions like selecting individual 5 cells for import, convert dates and time automatically, reading formulas and their results, filters, sorting, etc\n",
    "6 Apart from text, data can also be stored in form of charts and graphs\n",
    "7 Excel can connect to external data sources to fetch data. You can use custom add-in in Excel to increase its functionality.\n",
    "8 Excel allows for Review of Data with detailed tracking and commenting feature\n",
    "9 In Excel, spreadsheets can have values of data types other than strings; cells can have different fonts, sizes, or color   \n",
    "10 settings; cells can have varying widths and heights; adjacent cells can be merged"
   ]
  },
  {
   "cell_type": "markdown",
   "id": "f9918626",
   "metadata": {},
   "source": [
    "2.What do you pass to csv.reader() and csv.writer() to create reader and writer objects?"
   ]
  },
  {
   "cell_type": "code",
   "execution_count": 10,
   "id": "23247f99",
   "metadata": {},
   "outputs": [],
   "source": [
    "import csv\n",
    "with open('abc.csv','w',newline='') as file_csv:\n",
    "    f = csv.writer(file_csv)\n",
    "    f.writerow(['col1','col2','col3'])\n",
    "    f.writerow(['one','two','three'])\n",
    "    \n",
    "   "
   ]
  },
  {
   "cell_type": "code",
   "execution_count": 12,
   "id": "2e7a2b56",
   "metadata": {},
   "outputs": [
    {
     "data": {
      "text/plain": [
       "[['col1', 'col2', 'col3'], ['one', 'two', 'three']]"
      ]
     },
     "execution_count": 12,
     "metadata": {},
     "output_type": "execute_result"
    }
   ],
   "source": [
    "file_csv = open('abc.csv')\n",
    "filereader = csv.reader(file_csv)\n",
    "fileData = list(filereader)\n",
    "fileData"
   ]
  },
  {
   "cell_type": "markdown",
   "id": "4415e616",
   "metadata": {},
   "source": [
    "3. What modes do File objects for reader and writer objects need to be opened in?"
   ]
  },
  {
   "cell_type": "raw",
   "id": "0a310681",
   "metadata": {},
   "source": [
    " File objects need to be opened in read-binary ('rb') for Reader objects and write-binary ('wb') for Writer objects"
   ]
  },
  {
   "cell_type": "markdown",
   "id": "6f6a7208",
   "metadata": {},
   "source": [
    "4. What method takes a list argument and writes it to a CSV file?"
   ]
  },
  {
   "cell_type": "code",
   "execution_count": 16,
   "id": "4ee21ead",
   "metadata": {},
   "outputs": [
    {
     "data": {
      "text/plain": [
       "14"
      ]
     },
     "execution_count": 16,
     "metadata": {},
     "output_type": "execute_result"
    }
   ],
   "source": [
    "File_abc = open('abc.csv','w')\n",
    "File_Writer = csv.writer(File_abc)\n",
    "csv.writer(File_abc).writerow(['cat','fish','dog'])\n"
   ]
  },
  {
   "cell_type": "markdown",
   "id": "7f1af5f9",
   "metadata": {},
   "source": [
    "5. What do the keyword arguments delimiter and line terminator do?"
   ]
  },
  {
   "cell_type": "raw",
   "id": "3d7474d9",
   "metadata": {},
   "source": [
    "The delimiter argument changes the string used to separate cells in a row.\n",
    "The line terminator argument changes the string used to separate rows."
   ]
  },
  {
   "cell_type": "markdown",
   "id": "48e5ff06",
   "metadata": {},
   "source": [
    "6. What function takes a string of JSON data and returns a Python data structure?"
   ]
  },
  {
   "cell_type": "code",
   "execution_count": 23,
   "id": "7aa0d941",
   "metadata": {},
   "outputs": [
    {
     "name": "stdout",
     "output_type": "stream",
     "text": [
      "{  \"person\":  { \"name\":  \"Kenn\",  \"sex\":  \"male\",  \"age\":  28}}\n",
      "{'person': {'name': 'Kenn', 'sex': 'male', 'age': 28}}\n",
      "Type of dict_obj <class 'dict'>\n"
     ]
    }
   ],
   "source": [
    "import json  # json library imported\n",
    "# json data string\n",
    "person_data = '{  \"person\":  { \"name\":  \"Kenn\",  \"sex\":  \"male\",  \"age\":  28}}'\n",
    "print(type(person_data)\n",
    "# Decoding or converting JSON format in dictionary using loads()\n",
    "dict_obj = json.loads(person_data)\n",
    "print(dict_obj)\n",
    "# check type of dict_obj\n",
    "print(\"Type of dict_obj\", type(dict_obj))\n"
   ]
  },
  {
   "cell_type": "markdown",
   "id": "997048b8",
   "metadata": {},
   "source": [
    "7. What function takes a Python data structure and returns a string of JSON data?"
   ]
  },
  {
   "cell_type": "code",
   "execution_count": 22,
   "id": "4501704a",
   "metadata": {},
   "outputs": [
    {
     "name": "stdout",
     "output_type": "stream",
     "text": [
      "<class 'dict'>\n",
      "{\n",
      "    \"age\": 45,\n",
      "    \"cars\": [\n",
      "        {\n",
      "            \"model\": \"Audi A1\",\n",
      "            \"mpg\": 15.1\n",
      "        },\n",
      "        {\n",
      "            \"model\": \"Zeep Compass\",\n",
      "            \"mpg\": 18.1\n",
      "        }\n",
      "    ],\n",
      "    \"children\": [\n",
      "        \"Alice\",\n",
      "        \"Bob\"\n",
      "    ],\n",
      "    \"married\": true,\n",
      "    \"name\": \"Ken\",\n",
      "    \"pets\": [\n",
      "        \"Dog\"\n",
      "    ]\n",
      "}\n"
     ]
    }
   ],
   "source": [
    "import json\n",
    "\n",
    "x = {\n",
    "  \"name\": \"Ken\",\n",
    "  \"age\": 45,\n",
    "  \"married\": True,\n",
    "  \"children\": (\"Alice\",\"Bob\"),\n",
    "  \"pets\": ['Dog'],\n",
    "  \"cars\": [\n",
    "    {\"model\": \"Audi A1\", \"mpg\": 15.1},\n",
    "    {\"model\": \"Zeep Compass\", \"mpg\": 18.1}\n",
    "  ]\n",
    "}\n",
    "print(type(x))\n",
    "# sorting result in asscending order by keys:\n",
    "sorted_string = json.dumps(x, indent=4, sort_keys=True)\n",
    "print(sorted_string)"
   ]
  },
  {
   "cell_type": "code",
   "execution_count": null,
   "id": "931c82b5",
   "metadata": {},
   "outputs": [],
   "source": []
  }
 ],
 "metadata": {
  "kernelspec": {
   "display_name": "Python 3 (ipykernel)",
   "language": "python",
   "name": "python3"
  },
  "language_info": {
   "codemirror_mode": {
    "name": "ipython",
    "version": 3
   },
   "file_extension": ".py",
   "mimetype": "text/x-python",
   "name": "python",
   "nbconvert_exporter": "python",
   "pygments_lexer": "ipython3",
   "version": "3.9.12"
  }
 },
 "nbformat": 4,
 "nbformat_minor": 5
}
