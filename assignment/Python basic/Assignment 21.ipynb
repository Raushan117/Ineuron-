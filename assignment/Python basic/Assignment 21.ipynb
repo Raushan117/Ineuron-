{
 "cells": [
  {
   "cell_type": "markdown",
   "id": "cbfe6ee0",
   "metadata": {},
   "source": [
    "1. Add the current date to the text file today.txt as a string."
   ]
  },
  {
   "cell_type": "code",
   "execution_count": 7,
   "id": "13ef8e28",
   "metadata": {},
   "outputs": [
    {
     "data": {
      "text/plain": [
       "'2023-02-05'"
      ]
     },
     "execution_count": 7,
     "metadata": {},
     "output_type": "execute_result"
    }
   ],
   "source": [
    "from datetime import date\n",
    "\n",
    "t = date.today()\n",
    "cur_date = t.isoformat()\n",
    "cur_date"
   ]
  },
  {
   "cell_type": "code",
   "execution_count": 8,
   "id": "40135e68",
   "metadata": {},
   "outputs": [],
   "source": [
    "with open('today.txt','w') as f:\n",
    "    f.write(cur_date)"
   ]
  },
  {
   "cell_type": "markdown",
   "id": "ac8cb57f",
   "metadata": {},
   "source": [
    "2. Read the text file today.txt into the string today_string"
   ]
  },
  {
   "cell_type": "code",
   "execution_count": 11,
   "id": "6809e81f",
   "metadata": {},
   "outputs": [
    {
     "data": {
      "text/plain": [
       "'2023-02-05'"
      ]
     },
     "execution_count": 11,
     "metadata": {},
     "output_type": "execute_result"
    }
   ],
   "source": [
    "with open('today.txt','r') as f:\n",
    "    today_string = f.read()\n",
    "today_string"
   ]
  },
  {
   "cell_type": "markdown",
   "id": "c204ced0",
   "metadata": {},
   "source": [
    "3. Parse the date from today_string."
   ]
  },
  {
   "cell_type": "code",
   "execution_count": 12,
   "id": "3ca03140",
   "metadata": {},
   "outputs": [
    {
     "data": {
      "text/plain": [
       "datetime.datetime(2023, 2, 5, 0, 0)"
      ]
     },
     "execution_count": 12,
     "metadata": {},
     "output_type": "execute_result"
    }
   ],
   "source": [
    "from datetime import datetime\n",
    "format = '%Y-%m-%d'\n",
    "datetime.strptime(today_string,format)"
   ]
  },
  {
   "cell_type": "markdown",
   "id": "6acc8a15",
   "metadata": {},
   "source": [
    "4. List the files in your current directory"
   ]
  },
  {
   "cell_type": "code",
   "execution_count": 13,
   "id": "477af67a",
   "metadata": {},
   "outputs": [
    {
     "data": {
      "text/plain": [
       "['.ipynb_checkpoints',\n",
       " 'abc.csv',\n",
       " 'Assignment 10 .ipynb',\n",
       " 'Assignment 11 .ipynb',\n",
       " 'Assignment 12.ipynb',\n",
       " 'Assignment 13.ipynb',\n",
       " 'Assignment 14.ipynb',\n",
       " 'Assignment 15.ipynb',\n",
       " 'Assignment 16.ipynb',\n",
       " 'Assignment 17.ipynb',\n",
       " 'Assignment 18.ipynb',\n",
       " 'Assignment 19.ipynb',\n",
       " 'Assignment 2.ipynb',\n",
       " 'Assignment 20.ipynb',\n",
       " 'Assignment 3.ipynb',\n",
       " 'Assignment 4.ipynb',\n",
       " 'Assignment 5.ipynb',\n",
       " 'Assignment 6.ipynb',\n",
       " 'Assignment 7 incomplete.ipynb',\n",
       " 'Assignment 8.ipynb',\n",
       " 'Assignment 9.ipynb',\n",
       " 'Assignment_1 Q&A.docx',\n",
       " 'Assignment_1 Q&A.pdf',\n",
       " 'Assignment_10.docx',\n",
       " 'Assignment_10.pdf',\n",
       " 'Assignment_11.docx',\n",
       " 'Assignment_12.docx',\n",
       " 'Assignment_13.docx',\n",
       " 'Assignment_14.docx',\n",
       " 'Assignment_15.docx',\n",
       " 'Assignment_16.docx',\n",
       " 'Assignment_17.docx',\n",
       " 'Assignment_18.docx',\n",
       " 'Assignment_19.docx',\n",
       " 'Assignment_20.docx',\n",
       " 'Assignment_21.docx',\n",
       " 'Assignment_22.docx',\n",
       " 'Assignment_23.docx',\n",
       " 'Assignment_24.docx',\n",
       " 'Assignment_25.docx',\n",
       " 'Assignment_6.docx',\n",
       " 'Assignment_7.docx',\n",
       " 'Assignment_8.docx',\n",
       " 'Assignment_9.docx',\n",
       " 'books.csv',\n",
       " 'books.db',\n",
       " 'hellothere.docx',\n",
       " 'Hindi syllabus.pdf',\n",
       " 'path_to_document',\n",
       " 'programLog.txt',\n",
       " 'SENECHIO PHARMA-Model.pdf',\n",
       " 'stool.jpeg',\n",
       " 'stool1.jpeg',\n",
       " 'test.txt',\n",
       " 'today.txt',\n",
       " 'Untitled.ipynb',\n",
       " 'zoo.py',\n",
       " '__pycache__',\n",
       " '~$signment_21.docx']"
      ]
     },
     "execution_count": 13,
     "metadata": {},
     "output_type": "execute_result"
    }
   ],
   "source": [
    "import os\n",
    "os.listdir('.')"
   ]
  },
  {
   "cell_type": "markdown",
   "id": "2738c966",
   "metadata": {},
   "source": [
    "5. Create a list of all of the files in your parent directory (minimum five files should be available)."
   ]
  },
  {
   "cell_type": "code",
   "execution_count": 21,
   "id": "7af7eac6",
   "metadata": {},
   "outputs": [],
   "source": [
    "list = [os.listdir()]"
   ]
  },
  {
   "cell_type": "markdown",
   "id": "02afab5a",
   "metadata": {},
   "source": [
    "6. Use multiprocessing to create three separate processes. Make each one wait a random number of seconds between one and five, print the current time, and then exit."
   ]
  },
  {
   "cell_type": "code",
   "execution_count": 23,
   "id": "1efe723e",
   "metadata": {},
   "outputs": [],
   "source": [
    "import multiprocessing\n",
    "\n",
    "def printsec(seconds):\n",
    "    from datetime import datetime\n",
    "    from time import sleep\n",
    "    sleep(seconds)\n",
    "    print('wait', seconds, 'seconds, time is', datetime.utcnow())\n",
    "    \n",
    "if __name__ == '__main__':\n",
    "    import random    \n",
    "    for n in range(3):\n",
    "        seconds = random.random()\n",
    "        proc = multiprocessing.Process(target=printsec, args=(seconds,))\n",
    "        proc.start()"
   ]
  },
  {
   "cell_type": "markdown",
   "id": "08cded4e",
   "metadata": {},
   "source": [
    "7. Create a date object of your day of birth."
   ]
  },
  {
   "cell_type": "code",
   "execution_count": 30,
   "id": "d2795d04",
   "metadata": {},
   "outputs": [
    {
     "data": {
      "text/plain": [
       "datetime.date(1998, 2, 22)"
      ]
     },
     "execution_count": 30,
     "metadata": {},
     "output_type": "execute_result"
    }
   ],
   "source": [
    "my_dob = date(1998,2,22)\n",
    "my_dob"
   ]
  },
  {
   "cell_type": "markdown",
   "id": "1050c9fc",
   "metadata": {},
   "source": [
    "8. What day of the week was your day of birth?"
   ]
  },
  {
   "cell_type": "code",
   "execution_count": 31,
   "id": "208eac08",
   "metadata": {},
   "outputs": [
    {
     "data": {
      "text/plain": [
       "6"
      ]
     },
     "execution_count": 31,
     "metadata": {},
     "output_type": "execute_result"
    }
   ],
   "source": [
    "my_dob.weekday()"
   ]
  },
  {
   "cell_type": "code",
   "execution_count": null,
   "id": "56168e5f",
   "metadata": {},
   "outputs": [],
   "source": [
    "from datetime import timedelta\n",
    "day10000 = my_dob + timedelta(days=10000)\n",
    "day10000"
   ]
  }
 ],
 "metadata": {
  "kernelspec": {
   "display_name": "Python 3 (ipykernel)",
   "language": "python",
   "name": "python3"
  },
  "language_info": {
   "codemirror_mode": {
    "name": "ipython",
    "version": 3
   },
   "file_extension": ".py",
   "mimetype": "text/x-python",
   "name": "python",
   "nbconvert_exporter": "python",
   "pygments_lexer": "ipython3",
   "version": "3.9.12"
  }
 },
 "nbformat": 4,
 "nbformat_minor": 5
}
