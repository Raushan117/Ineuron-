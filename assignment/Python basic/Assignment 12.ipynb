{
 "cells": [
  {
   "cell_type": "markdown",
   "id": "479b84b8",
   "metadata": {},
   "source": [
    "1. In what modes should the PdfFileReader() and PdfFileWriter() File objects will be opened?"
   ]
  },
  {
   "cell_type": "raw",
   "id": "98c59949",
   "metadata": {},
   "source": [
    "These files will be opened in binary mode., read binary (rb) for PdfFileREader() and write binary (wb) PdfFileWriter()"
   ]
  },
  {
   "cell_type": "markdown",
   "id": "e26bb14d",
   "metadata": {},
   "source": [
    "2. From a PdfFileReader object, how do you get a Page object for page 5?"
   ]
  },
  {
   "cell_type": "code",
   "execution_count": null,
   "id": "63c4b543",
   "metadata": {},
   "outputs": [],
   "source": [
    "import PyPDF2 as pdf\n",
    "\n",
    "pdf_File_Obj = open(\"Hindi syllabus.pdf\",'rb')\n",
    "pdf_Reader = pdf.PdfFileReader(pdf_File_Obj)\n",
    "page_Obj = pdfReader.getPage(4)\n",
    "page_Obj.extractText()\n",
    "     "
   ]
  },
  {
   "cell_type": "markdown",
   "id": "f6cfd822",
   "metadata": {},
   "source": [
    "3. What PdfFileReader variable stores the number of pages in the PDF document?"
   ]
  },
  {
   "cell_type": "code",
   "execution_count": null,
   "id": "9c0b9411",
   "metadata": {},
   "outputs": [],
   "source": [
    "import PyPDF2 as pdf\n",
    "pdf_File_Obj = open(\"Hindi syllabus.pdf\",'rb')\n",
    "pdf_Reader = pdf.PdfFileReader(pdf_File_Obj)\n",
    "pdf_Reader.numPages\n"
   ]
  },
  {
   "cell_type": "markdown",
   "id": "5f43521b",
   "metadata": {},
   "source": [
    "4. If a PdfFileReader object’s PDF is encrypted with the password swordfish, what must you do before you can obtain Page objects from it?"
   ]
  },
  {
   "cell_type": "raw",
   "id": "6296b33c",
   "metadata": {},
   "source": [
    "Ans. Before we obtain the page object, the pdf has to be decrypted by calling .decrypt('swordfish')"
   ]
  },
  {
   "cell_type": "markdown",
   "id": "41a98e0c",
   "metadata": {},
   "source": [
    "5. What methods do you use to rotate a page?"
   ]
  },
  {
   "cell_type": "raw",
   "id": "0f2ca694",
   "metadata": {},
   "source": [
    "pageObj.rotateClockwise(180)\n",
    "\n",
    "The rotateClockwise() and rotateCounterClockwise() methods. The degrees to rotate is passed as an integer argument"
   ]
  },
  {
   "cell_type": "markdown",
   "id": "8d3b1772",
   "metadata": {},
   "source": [
    "6. What is the difference between a Run object and a Paragraph object?"
   ]
  },
  {
   "cell_type": "raw",
   "id": "624b0517",
   "metadata": {},
   "source": [
    "Paragraph Object : A document contains multiple paragraphs. A paragraph begins on a new line and contains multiple\n",
    "runs. The Document object contains a list of Paragraph objects for the paragraphs in the document. (A new paragraph begins whenever the user presses ENTER or RETURN while typing in a Word document.)"
   ]
  },
  {
   "cell_type": "markdown",
   "id": "7f5bd2d7",
   "metadata": {},
   "source": [
    "7. How do you obtain a list of Paragraph objects for a Document object that’s stored in a variable named doc?"
   ]
  },
  {
   "cell_type": "code",
   "execution_count": 6,
   "id": "f9cfafa7",
   "metadata": {},
   "outputs": [
    {
     "data": {
      "text/plain": [
       "[<docx.text.paragraph.Paragraph at 0x2107a581af0>,\n",
       " <docx.text.paragraph.Paragraph at 0x2107a581970>,\n",
       " <docx.text.paragraph.Paragraph at 0x2107a5819a0>,\n",
       " <docx.text.paragraph.Paragraph at 0x2107a581a00>,\n",
       " <docx.text.paragraph.Paragraph at 0x2107a581a60>,\n",
       " <docx.text.paragraph.Paragraph at 0x2107a581b50>,\n",
       " <docx.text.paragraph.Paragraph at 0x2107a581b20>,\n",
       " <docx.text.paragraph.Paragraph at 0x2107a581c10>,\n",
       " <docx.text.paragraph.Paragraph at 0x2107a581bb0>,\n",
       " <docx.text.paragraph.Paragraph at 0x2107a581cd0>,\n",
       " <docx.text.paragraph.Paragraph at 0x2107a581c70>,\n",
       " <docx.text.paragraph.Paragraph at 0x2107a581d90>,\n",
       " <docx.text.paragraph.Paragraph at 0x2107a581d30>]"
      ]
     },
     "execution_count": 6,
     "metadata": {},
     "output_type": "execute_result"
    }
   ],
   "source": [
    "import docx\n",
    "doc = docx.Document('Assignment_12.docx')\n",
    "doc.paragraphs"
   ]
  },
  {
   "cell_type": "markdown",
   "id": "9cab5686",
   "metadata": {},
   "source": [
    "8. What type of object has bold, underline, italic, strike, and outline variables?"
   ]
  },
  {
   "cell_type": "raw",
   "id": "62643f80",
   "metadata": {},
   "source": [
    "A Run object has bold, underline,italic,strike and outline variables"
   ]
  },
  {
   "cell_type": "markdown",
   "id": "02cf5b97",
   "metadata": {},
   "source": [
    "9. What is the difference between False, True, and None for the bold variable?"
   ]
  },
  {
   "cell_type": "raw",
   "id": "f2bd52cf",
   "metadata": {},
   "source": [
    "Runs can be further styled using text attributes. Each attribute can be set to one of three values:\n",
    "True (the attribute is always enabled, no matter what other styles are applied to the run),\n",
    "False (the attribute is always disabled),\n",
    "None (defaults to whatever the run’s style is set to)\n",
    "\n",
    "True always makes the Run object bolded and False makes it always not bolded, no matter what the style’s bold setting is. None will make the Run object just use the style’s bold setting"
   ]
  },
  {
   "cell_type": "markdown",
   "id": "6d9092da",
   "metadata": {},
   "source": [
    "10. How do you create a Document object for a new Word document?"
   ]
  },
  {
   "cell_type": "code",
   "execution_count": 8,
   "id": "85e79ef4",
   "metadata": {},
   "outputs": [],
   "source": [
    "# import docx NOT python-docx\n",
    "import docx\n",
    "\n",
    "# create an instance of a word document\n",
    "doc = docx.Document()\n",
    "\n",
    "# add a heading of level 0 (largest heading)\n",
    "doc.add_heading('Heading for the document', 0)\n",
    "\n",
    "# add a paragraph and store\n",
    "# the object in a variable\n",
    "doc_para = doc.add_paragraph('Your paragraph goes here, ')\n",
    "\n",
    "# add a run i.e, style like\n",
    "# bold, italic, underline, etc.\n",
    "doc_para.add_run('hey there, bold here').bold = True\n",
    "doc_para.add_run(', and ')\n",
    "doc_para.add_run('these words are italic').italic = True\n",
    "\n",
    "# add a page break to start a new page\n",
    "doc.add_page_break()\n",
    "\n",
    "# add a heading of level 2\n",
    "doc.add_heading('Heading level 2', 2)\n",
    "\n",
    "\n",
    "\n",
    "# now save the document to a location\n",
    "doc.save('path_to_document')\n"
   ]
  },
  {
   "cell_type": "markdown",
   "id": "273fcce6",
   "metadata": {},
   "source": [
    "11. How do you add a paragraph with the text 'Hello, there!' to a Document object stored in a variable named doc?"
   ]
  },
  {
   "cell_type": "code",
   "execution_count": 9,
   "id": "184928fc",
   "metadata": {},
   "outputs": [],
   "source": [
    "\n",
    "import docx\n",
    "doc = docx.Document()\n",
    "\n",
    "doc.add_paragraph('Hello there!')\n",
    "doc.save('hellothere.docx')"
   ]
  },
  {
   "cell_type": "markdown",
   "id": "644e9b8a",
   "metadata": {},
   "source": [
    "12. What integers represent the levels of headings available in Word documents?"
   ]
  },
  {
   "cell_type": "raw",
   "id": "4d95d458",
   "metadata": {},
   "source": [
    "integer from 0 to 4\n",
    "The arguments to add_heading() are a string of the heading text and an integer from 0 to 4. The integer 0 makes the heading the Title style, which is used for the top of the document. Integers 1 to 4 are for various heading levels, with 1 being the main heading and 4 the lowest subheading"
   ]
  },
  {
   "cell_type": "code",
   "execution_count": null,
   "id": "aace2b0b",
   "metadata": {},
   "outputs": [],
   "source": []
  }
 ],
 "metadata": {
  "kernelspec": {
   "display_name": "Python 3 (ipykernel)",
   "language": "python",
   "name": "python3"
  },
  "language_info": {
   "codemirror_mode": {
    "name": "ipython",
    "version": 3
   },
   "file_extension": ".py",
   "mimetype": "text/x-python",
   "name": "python",
   "nbconvert_exporter": "python",
   "pygments_lexer": "ipython3",
   "version": "3.9.12"
  }
 },
 "nbformat": 4,
 "nbformat_minor": 5
}
