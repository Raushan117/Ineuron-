{
 "cells": [
  {
   "cell_type": "markdown",
   "id": "7f19c6eb",
   "metadata": {},
   "source": [
    ">1. What does RGBA stand for?"
   ]
  },
  {
   "cell_type": "markdown",
   "id": "99224504",
   "metadata": {},
   "source": [
    "* RGBA stands for red, green, blue, and alpha (transparency) in the color\n",
    "* An RGBA value is a tuple of 4 integers, each ranging from 0 to 255. The four integers correspond\n",
    "to the amount of red, green, blue, and alpha (transparency) in the color"
   ]
  },
  {
   "cell_type": "markdown",
   "id": "097af54b",
   "metadata": {},
   "source": [
    ">2. From the Pillow module, how do you get the RGBA value of any images?"
   ]
  },
  {
   "cell_type": "code",
   "execution_count": 8,
   "id": "18e5978d",
   "metadata": {},
   "outputs": [
    {
     "name": "stdout",
     "output_type": "stream",
     "text": [
      "(0, 128, 0, 255)\n",
      "(255, 0, 0, 255)\n",
      "(0, 0, 255, 255)\n"
     ]
    }
   ],
   "source": [
    "from PIL import ImageColor\n",
    "print(ImageColor.getcolor('green', 'RGBA'))\n",
    "print(ImageColor.getcolor('red', 'RGBA'))\n",
    "print(ImageColor.getcolor('blue','RGBA'))\n"
   ]
  },
  {
   "cell_type": "markdown",
   "id": "1f787a5e",
   "metadata": {},
   "source": [
    "3. What is a box tuple, and how does it work?"
   ]
  },
  {
   "cell_type": "raw",
   "id": "2b82a059",
   "metadata": {},
   "source": [
    "A box tuple is a tuple value of four integers: the left edge x-coordinate, the top edge y-coordinate, the width, and the height, respectively"
   ]
  },
  {
   "cell_type": "markdown",
   "id": "acc8cc31",
   "metadata": {},
   "source": [
    "> 4.Use your image and load in notebook then, How can you find out the width and height of an Image object?"
   ]
  },
  {
   "cell_type": "code",
   "execution_count": 11,
   "id": "5154e028",
   "metadata": {},
   "outputs": [
    {
     "name": "stdout",
     "output_type": "stream",
     "text": [
      "The height of the image is:  1164\n",
      "The width of the image is:  838\n"
     ]
    }
   ],
   "source": [
    "# import required module\n",
    "from PIL import Image\n",
    "\n",
    "# get image\n",
    "filepath = \"stool.jpeg\"\n",
    "img = Image.open(filepath)\n",
    "\n",
    "# get width and height\n",
    "width = img.width\n",
    "height = img.height\n",
    "\n",
    "# display width and height\n",
    "print(\"The height of the image is: \", height)\n",
    "print(\"The width of the image is: \", width)\n"
   ]
  },
  {
   "cell_type": "markdown",
   "id": "6a8ed967",
   "metadata": {},
   "source": [
    "> 5. What method would you call to get Image object for a 100×100 image, excluding the lower-left quarter of it?"
   ]
  },
  {
   "cell_type": "code",
   "execution_count": 36,
   "id": "9aaa3341",
   "metadata": {},
   "outputs": [],
   "source": [
    "from PIL import Image\n",
    "\n",
    "im = Image.open('stool.jpeg')\n",
    "im_crop = im.crop((60, 20, 400, 200))\n"
   ]
  },
  {
   "cell_type": "code",
   "execution_count": 37,
   "id": "06fa28ed",
   "metadata": {},
   "outputs": [],
   "source": [
    "im_crop.save('stool1.jpeg',quality= 95)"
   ]
  },
  {
   "cell_type": "code",
   "execution_count": 38,
   "id": "b19a8bf6",
   "metadata": {},
   "outputs": [
    {
     "data": {
      "text/plain": [
       "(340, 180)"
      ]
     },
     "execution_count": 38,
     "metadata": {},
     "output_type": "execute_result"
    }
   ],
   "source": [
    "im_crop.size"
   ]
  },
  {
   "cell_type": "markdown",
   "id": "f3b93c34",
   "metadata": {},
   "source": [
    "6. After making changes to an Image object, how could you save it as an image file?"
   ]
  },
  {
   "cell_type": "raw",
   "id": "0d4a6e31",
   "metadata": {},
   "source": [
    "By Calling the imageObj.save('new_filename.png') method of the Image object."
   ]
  },
  {
   "cell_type": "markdown",
   "id": "2670d353",
   "metadata": {},
   "source": [
    "7. What module contains Pillow’s shape-drawing code?"
   ]
  },
  {
   "cell_type": "code",
   "execution_count": null,
   "id": "20637df0",
   "metadata": {},
   "outputs": [],
   "source": []
  }
 ],
 "metadata": {
  "kernelspec": {
   "display_name": "Python 3 (ipykernel)",
   "language": "python",
   "name": "python3"
  },
  "language_info": {
   "codemirror_mode": {
    "name": "ipython",
    "version": 3
   },
   "file_extension": ".py",
   "mimetype": "text/x-python",
   "name": "python",
   "nbconvert_exporter": "python",
   "pygments_lexer": "ipython3",
   "version": "3.9.12"
  }
 },
 "nbformat": 4,
 "nbformat_minor": 5
}
